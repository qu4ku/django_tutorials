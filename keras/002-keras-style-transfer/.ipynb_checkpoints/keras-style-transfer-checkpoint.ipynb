{
 "cells": [
  {
   "cell_type": "code",
   "execution_count": 15,
   "metadata": {
    "ExecuteTime": {
     "end_time": "2018-01-19T02:49:41.794879Z",
     "start_time": "2018-01-19T02:49:41.792110Z"
    }
   },
   "outputs": [],
   "source": [
    "content_img_path = 'content.jpg'\n",
    "style_img_path = 'style.jpg'\n",
    "gen_img_path = 'output.jpg'"
   ]
  },
  {
   "cell_type": "code",
   "execution_count": 16,
   "metadata": {
    "ExecuteTime": {
     "end_time": "2018-01-19T02:49:42.584789Z",
     "start_time": "2018-01-19T02:49:42.581996Z"
    }
   },
   "outputs": [],
   "source": [
    "import numpy as np\n",
    "import pandas as pd\n",
    "from PIL import Image"
   ]
  },
  {
   "cell_type": "code",
   "execution_count": 17,
   "metadata": {
    "ExecuteTime": {
     "end_time": "2018-01-19T02:49:42.751676Z",
     "start_time": "2018-01-19T02:49:42.743811Z"
    }
   },
   "outputs": [],
   "source": [
    "from keras import backend as K\n",
    "from keras.applications.vgg16 import preprocess_input\n",
    "from keras.preprocessing.image import load_img, img_to_array\n",
    "from keras.layers import Input\n",
    "from scipy.optimize import fmin_l_bfgs_b\n",
    "import time"
   ]
  },
  {
   "cell_type": "code",
   "execution_count": 20,
   "metadata": {
    "ExecuteTime": {
     "end_time": "2018-01-19T02:59:18.241071Z",
     "start_time": "2018-01-19T02:59:18.148264Z"
    }
   },
   "outputs": [],
   "source": [
    "target_height = 512\n",
    "target_width = 512\n",
    "target_size = (target_height, target_width)\n",
    "content_img = load_img(path=content_img_path, target_size=target_size)\n",
    "content_img = img_to_array(content_img)\n",
    "content_img = K.variable(preprocess_input(np.expand_dims(content_img, axis=0)), dtype='float32')\n",
    "\n",
    "style_img = load_img(path=style_img_path)\n",
    "style_img = img_to_array(style_img)\n",
    "style_img = K.variable(preprocess_input(np.expand_dims(style_img, axis=0)), dtype='float32')\n",
    "\n",
    "gan_img = np.random.randint(256, size=(target_width, target_height, 3)).astype('float64')\n",
    "gan_img = preprocess_input(np.expand_dims(gan_img, axis=0))\n",
    "gan_img_placeholder = K.placeholder(shape=(1, target_width, target_height, 3))"
   ]
  },
  {
   "cell_type": "code",
   "execution_count": null,
   "metadata": {},
   "outputs": [],
   "source": [
    "def get_feature_reps(x, layer_names, model):\n",
    "    \"\"\"\n",
    "    Get feature representations of input x  for one or more layers in a given model.\n",
    "    \"\"\"\n",
    "    feat_matrices = []\n",
    "    for layer in layer_names:\n",
    "        selected_layer = model.get_layer(layer)\n",
    "        feat_raw = selected_layer.output\n",
    "        feat_raw_shape = K.shape(feat_raw).eval(session=tf_session)\n",
    "        n_l = feat_raw_shape[-1]\n",
    "        m_l = feat_raw_shape[1] * feat_raw_shape[2]\n",
    "        feat_matrix = K.reshape(feat_raw, (m_l, n_l))\n",
    "        feat_matrix = K.transpose(feat_matrix)\n",
    "        feat_matrices.append(feat_matrix)\n",
    "    return feat_matrices\n",
    "\n",
    "def get_content_loss(F, P):\n",
    "    content_loss = 0.5 * K.sum(K.square(F - P))\n",
    "    return content_loss\n",
    "\n",
    "def get_gram_matrix(F):\n",
    "    G = K.dot(F, K.transpose(F))\n",
    "    return G\n",
    "\n",
    "def get_style_loss(ws, Gs, As):\n",
    "    style_loss = K.variable(0.)\n",
    "    for w, G, A in zip(ws, Gs, As):\n",
    "        M_l = K.int_shape(G)[1]\n",
    "        N_l = K.int_shape(G)[0]\n",
    "        g_gram = get_gram_matrix(G)\n",
    "        a_gram = get_gram_matrix(A)\n",
    "        style_loss += w * 0.25 * K.sum(K.square(g_gram - a_gram)) / (N_l**2 * M_l**2)\n",
    "    return style_loss\n"
   ]
  }
 ],
 "metadata": {
  "kernelspec": {
   "display_name": "Python 3",
   "language": "python",
   "name": "python3"
  },
  "language_info": {
   "codemirror_mode": {
    "name": "ipython",
    "version": 3
   },
   "file_extension": ".py",
   "mimetype": "text/x-python",
   "name": "python",
   "nbconvert_exporter": "python",
   "pygments_lexer": "ipython3",
   "version": "3.6.1"
  },
  "varInspector": {
   "cols": {
    "lenName": 16,
    "lenType": 16,
    "lenVar": 40
   },
   "kernels_config": {
    "python": {
     "delete_cmd_postfix": "",
     "delete_cmd_prefix": "del ",
     "library": "var_list.py",
     "varRefreshCmd": "print(var_dic_list())"
    },
    "r": {
     "delete_cmd_postfix": ") ",
     "delete_cmd_prefix": "rm(",
     "library": "var_list.r",
     "varRefreshCmd": "cat(var_dic_list()) "
    }
   },
   "types_to_exclude": [
    "module",
    "function",
    "builtin_function_or_method",
    "instance",
    "_Feature"
   ],
   "window_display": false
  }
 },
 "nbformat": 4,
 "nbformat_minor": 2
}
