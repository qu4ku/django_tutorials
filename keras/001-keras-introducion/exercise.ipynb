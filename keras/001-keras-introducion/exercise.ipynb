{
 "cells": [
  {
   "cell_type": "code",
   "execution_count": 1,
   "metadata": {
    "ExecuteTime": {
     "end_time": "2018-01-11T14:45:06.497618Z",
     "start_time": "2018-01-11T14:45:00.267424Z"
    }
   },
   "outputs": [
    {
     "name": "stderr",
     "output_type": "stream",
     "text": [
      "/Users/kamilwroniewicz/anaconda3/lib/python3.6/site-packages/h5py/__init__.py:34: FutureWarning: Conversion of the second argument of issubdtype from `float` to `np.floating` is deprecated. In future, it will be treated as `np.float64 == np.dtype(float).type`.\n",
      "  from ._conv import register_converters as _register_converters\n",
      "Using TensorFlow backend.\n",
      "/Users/kamilwroniewicz/anaconda3/lib/python3.6/importlib/_bootstrap.py:205: RuntimeWarning: compiletime version 3.5 of module 'tensorflow.python.framework.fast_tensor_util' does not match runtime version 3.6\n",
      "  return f(*args, **kwds)\n"
     ]
    }
   ],
   "source": [
    "import random\n",
    "import numpy as np\n",
    "import keras\n",
    "from keras.datasets import mnist\n",
    "from keras.models import Sequential, Model\n",
    "from keras.layers.core import Dense, Dropout, Activation\n",
    "from keras.optimizers import RMSprop, SGD\n",
    "from keras.utils import np_utils\n",
    "from keras import backend as K\n",
    "K.set_image_dim_ordering('tf')\n",
    "import matplotlib.pyplot as plt \n",
    "%matplotlib inline"
   ]
  },
  {
   "cell_type": "code",
   "execution_count": 2,
   "metadata": {
    "ExecuteTime": {
     "end_time": "2018-01-11T14:45:06.500998Z",
     "start_time": "2018-01-11T14:45:06.498859Z"
    }
   },
   "outputs": [],
   "source": [
    "path_to_dataset = './mnist.pkl.gz'"
   ]
  },
  {
   "cell_type": "code",
   "execution_count": 3,
   "metadata": {
    "ExecuteTime": {
     "end_time": "2018-01-11T14:45:07.020335Z",
     "start_time": "2018-01-11T14:45:06.502839Z"
    }
   },
   "outputs": [],
   "source": [
    "(X_train, y_train), (X_test, y_test) = mnist.load_data(path_to_dataset)"
   ]
  },
  {
   "cell_type": "code",
   "execution_count": 4,
   "metadata": {
    "ExecuteTime": {
     "end_time": "2018-01-11T14:45:07.028728Z",
     "start_time": "2018-01-11T14:45:07.023469Z"
    }
   },
   "outputs": [
    {
     "data": {
      "text/plain": [
       "(60000, 28, 28)"
      ]
     },
     "execution_count": 4,
     "metadata": {},
     "output_type": "execute_result"
    }
   ],
   "source": [
    "X_train.shape"
   ]
  },
  {
   "cell_type": "code",
   "execution_count": 5,
   "metadata": {
    "ExecuteTime": {
     "end_time": "2018-01-11T14:45:07.172260Z",
     "start_time": "2018-01-11T14:45:07.030614Z"
    }
   },
   "outputs": [],
   "source": [
    "X_train = X_train.reshape(60000, 784).astype('float32')\n",
    "X_test = X_test.reshape(10000, 784).astype('float32')\n",
    "X_train /= 255\n",
    "X_test /= 255"
   ]
  },
  {
   "cell_type": "code",
   "execution_count": 6,
   "metadata": {
    "ExecuteTime": {
     "end_time": "2018-01-11T14:45:07.178124Z",
     "start_time": "2018-01-11T14:45:07.174203Z"
    }
   },
   "outputs": [
    {
     "data": {
      "text/plain": [
       "(60000, 784)"
      ]
     },
     "execution_count": 6,
     "metadata": {},
     "output_type": "execute_result"
    }
   ],
   "source": [
    "X_train.shape"
   ]
  },
  {
   "cell_type": "code",
   "execution_count": 7,
   "metadata": {
    "ExecuteTime": {
     "end_time": "2018-01-11T14:45:07.183829Z",
     "start_time": "2018-01-11T14:45:07.180431Z"
    }
   },
   "outputs": [
    {
     "data": {
      "text/plain": [
       "(10000, 784)"
      ]
     },
     "execution_count": 7,
     "metadata": {},
     "output_type": "execute_result"
    }
   ],
   "source": [
    "X_test.shape"
   ]
  },
  {
   "cell_type": "code",
   "execution_count": 8,
   "metadata": {
    "ExecuteTime": {
     "end_time": "2018-01-11T14:45:07.192041Z",
     "start_time": "2018-01-11T14:45:07.185629Z"
    }
   },
   "outputs": [],
   "source": [
    "batch_size = 128\n",
    "classes = 10\n",
    "epochs = 10\n",
    "\n",
    "# Convert class vectors to binary class matrices for softmax layer\n",
    "y_train = keras.utils.np_utils.to_categorical(y_train, classes)\n",
    "y_test = keras.utils.np_utils.to_categorical(y_test, classes)"
   ]
  },
  {
   "cell_type": "code",
   "execution_count": 9,
   "metadata": {
    "ExecuteTime": {
     "end_time": "2018-01-11T14:45:07.197546Z",
     "start_time": "2018-01-11T14:45:07.194086Z"
    }
   },
   "outputs": [
    {
     "data": {
      "text/plain": [
       "(60000, 10)"
      ]
     },
     "execution_count": 9,
     "metadata": {},
     "output_type": "execute_result"
    }
   ],
   "source": [
    "y_train.shape"
   ]
  },
  {
   "cell_type": "code",
   "execution_count": 10,
   "metadata": {
    "ExecuteTime": {
     "end_time": "2018-01-11T14:45:07.203137Z",
     "start_time": "2018-01-11T14:45:07.199747Z"
    }
   },
   "outputs": [
    {
     "data": {
      "text/plain": [
       "(10000, 10)"
      ]
     },
     "execution_count": 10,
     "metadata": {},
     "output_type": "execute_result"
    }
   ],
   "source": [
    "y_test.shape"
   ]
  },
  {
   "cell_type": "code",
   "execution_count": 11,
   "metadata": {
    "ExecuteTime": {
     "end_time": "2018-01-11T14:45:07.329024Z",
     "start_time": "2018-01-11T14:45:07.205523Z"
    }
   },
   "outputs": [],
   "source": [
    "model = Sequential()\n",
    "model.add(Dense(512, input_shape=(784,)))\n",
    "model.add(Activation('relu'))\n",
    "model.add(Dropout(0.2))\n",
    "model.add(Dense(512))\n",
    "model.add(Activation('relu'))\n",
    "model.add(Dropout(0.2))\n",
    "model.add(Dense(10))\n",
    "model.add(Activation('softmax'))"
   ]
  },
  {
   "cell_type": "code",
   "execution_count": 12,
   "metadata": {
    "ExecuteTime": {
     "end_time": "2018-01-11T14:45:07.337492Z",
     "start_time": "2018-01-11T14:45:07.330710Z"
    }
   },
   "outputs": [
    {
     "name": "stdout",
     "output_type": "stream",
     "text": [
      "_________________________________________________________________\n",
      "Layer (type)                 Output Shape              Param #   \n",
      "=================================================================\n",
      "dense_1 (Dense)              (None, 512)               401920    \n",
      "_________________________________________________________________\n",
      "activation_1 (Activation)    (None, 512)               0         \n",
      "_________________________________________________________________\n",
      "dropout_1 (Dropout)          (None, 512)               0         \n",
      "_________________________________________________________________\n",
      "dense_2 (Dense)              (None, 512)               262656    \n",
      "_________________________________________________________________\n",
      "activation_2 (Activation)    (None, 512)               0         \n",
      "_________________________________________________________________\n",
      "dropout_2 (Dropout)          (None, 512)               0         \n",
      "_________________________________________________________________\n",
      "dense_3 (Dense)              (None, 10)                5130      \n",
      "_________________________________________________________________\n",
      "activation_3 (Activation)    (None, 10)                0         \n",
      "=================================================================\n",
      "Total params: 669,706\n",
      "Trainable params: 669,706\n",
      "Non-trainable params: 0\n",
      "_________________________________________________________________\n"
     ]
    }
   ],
   "source": [
    "model.summary()"
   ]
  },
  {
   "cell_type": "code",
   "execution_count": 13,
   "metadata": {
    "ExecuteTime": {
     "end_time": "2018-01-11T14:45:07.391756Z",
     "start_time": "2018-01-11T14:45:07.339603Z"
    }
   },
   "outputs": [],
   "source": [
    "model.compile(loss='categorical_crossentropy',\n",
    "             optimizer='rmsprop',\n",
    "             metrics=['accuracy'])"
   ]
  },
  {
   "cell_type": "code",
   "execution_count": 14,
   "metadata": {
    "ExecuteTime": {
     "end_time": "2018-01-11T14:46:27.166507Z",
     "start_time": "2018-01-11T14:45:07.396101Z"
    }
   },
   "outputs": [
    {
     "name": "stdout",
     "output_type": "stream",
     "text": [
      "Train on 60000 samples, validate on 10000 samples\n",
      "Epoch 1/10\n",
      "60000/60000 [==============================] - 7s 117us/step - loss: 0.2470 - acc: 0.9249 - val_loss: 0.1100 - val_acc: 0.9641\n",
      "Epoch 2/10\n",
      "60000/60000 [==============================] - 7s 111us/step - loss: 0.1028 - acc: 0.9690 - val_loss: 0.0766 - val_acc: 0.9764\n",
      "Epoch 3/10\n",
      "60000/60000 [==============================] - 7s 116us/step - loss: 0.0748 - acc: 0.9773 - val_loss: 0.0744 - val_acc: 0.9793\n",
      "Epoch 4/10\n",
      "60000/60000 [==============================] - 8s 135us/step - loss: 0.0585 - acc: 0.9815 - val_loss: 0.0913 - val_acc: 0.9745\n",
      "Epoch 5/10\n",
      "60000/60000 [==============================] - 8s 138us/step - loss: 0.0498 - acc: 0.9844 - val_loss: 0.0813 - val_acc: 0.9784\n",
      "Epoch 6/10\n",
      "60000/60000 [==============================] - 9s 148us/step - loss: 0.0439 - acc: 0.9867 - val_loss: 0.0777 - val_acc: 0.9798\n",
      "Epoch 7/10\n",
      "60000/60000 [==============================] - 9s 146us/step - loss: 0.0390 - acc: 0.9883 - val_loss: 0.0831 - val_acc: 0.9812\n",
      "Epoch 8/10\n",
      "60000/60000 [==============================] - 9s 145us/step - loss: 0.0331 - acc: 0.9901 - val_loss: 0.0932 - val_acc: 0.9798\n",
      "Epoch 9/10\n",
      "60000/60000 [==============================] - 8s 137us/step - loss: 0.0294 - acc: 0.9913 - val_loss: 0.0834 - val_acc: 0.9839\n",
      "Epoch 10/10\n",
      "60000/60000 [==============================] - 8s 129us/step - loss: 0.0284 - acc: 0.9916 - val_loss: 0.1010 - val_acc: 0.9802\n"
     ]
    }
   ],
   "source": [
    "history = model.fit(X_train, y_train,\n",
    "                   batch_size=batch_size, epochs=epochs,\n",
    "                   verbose=1, validation_data=(X_test, y_test))"
   ]
  },
  {
   "cell_type": "code",
   "execution_count": 15,
   "metadata": {
    "ExecuteTime": {
     "end_time": "2018-01-11T14:46:38.051850Z",
     "start_time": "2018-01-11T14:46:38.044701Z"
    }
   },
   "outputs": [
    {
     "data": {
      "text/plain": [
       "{'batch_size': 128,\n",
       " 'do_validation': True,\n",
       " 'epochs': 10,\n",
       " 'metrics': ['loss', 'acc', 'val_loss', 'val_acc'],\n",
       " 'samples': 60000,\n",
       " 'steps': None,\n",
       " 'verbose': 1}"
      ]
     },
     "execution_count": 15,
     "metadata": {},
     "output_type": "execute_result"
    }
   ],
   "source": [
    "history.params"
   ]
  },
  {
   "cell_type": "code",
   "execution_count": 16,
   "metadata": {
    "ExecuteTime": {
     "end_time": "2018-01-11T14:46:44.862884Z",
     "start_time": "2018-01-11T14:46:44.858110Z"
    }
   },
   "outputs": [
    {
     "data": {
      "text/plain": [
       "{'acc': [0.9248833333333333,\n",
       "  0.9689666666666666,\n",
       "  0.9773333333651225,\n",
       "  0.9814999999682108,\n",
       "  0.9844499999682108,\n",
       "  0.9867,\n",
       "  0.9882833333651225,\n",
       "  0.9901166666348775,\n",
       "  0.99125,\n",
       "  0.9915666666666667],\n",
       " 'loss': [0.24698100752035776,\n",
       "  0.10280760132223368,\n",
       "  0.07479597290555635,\n",
       "  0.05846697346468767,\n",
       "  0.04980767638161778,\n",
       "  0.043855198533833024,\n",
       "  0.03898139586846034,\n",
       "  0.03307432450656779,\n",
       "  0.029428220517591884,\n",
       "  0.02836534192028145],\n",
       " 'val_acc': [0.9641,\n",
       "  0.9764,\n",
       "  0.9793,\n",
       "  0.9745,\n",
       "  0.9784,\n",
       "  0.9798,\n",
       "  0.9812,\n",
       "  0.9798,\n",
       "  0.9839,\n",
       "  0.9802],\n",
       " 'val_loss': [0.10997803336381912,\n",
       "  0.07662255055718124,\n",
       "  0.07435848027393221,\n",
       "  0.09133492634631693,\n",
       "  0.08131390620398452,\n",
       "  0.07766833946208063,\n",
       "  0.0831422679121606,\n",
       "  0.09317761600866943,\n",
       "  0.08343357531217116,\n",
       "  0.1009711194456715]}"
      ]
     },
     "execution_count": 16,
     "metadata": {},
     "output_type": "execute_result"
    }
   ],
   "source": [
    "history.history"
   ]
  },
  {
   "cell_type": "code",
   "execution_count": 18,
   "metadata": {
    "ExecuteTime": {
     "end_time": "2018-01-11T14:49:40.543422Z",
     "start_time": "2018-01-11T14:49:39.930924Z"
    }
   },
   "outputs": [
    {
     "name": "stdout",
     "output_type": "stream",
     "text": [
      "10000/10000 [==============================] - 1s 61us/step\n",
      "Test score: 0.10097112615412875\n",
      "Test accuracy: 0.9802\n"
     ]
    }
   ],
   "source": [
    "score = model.evaluate(X_test, y_test, verbose=1)\n",
    "print('Test score:', score[0])\n",
    "print('Test accuracy:', score[1])"
   ]
  },
  {
   "cell_type": "code",
   "execution_count": 20,
   "metadata": {
    "ExecuteTime": {
     "end_time": "2018-01-11T14:51:20.204800Z",
     "start_time": "2018-01-11T14:51:20.032914Z"
    }
   },
   "outputs": [
    {
     "data": {
      "text/plain": [
       "<matplotlib.image.AxesImage at 0x122bcd160>"
      ]
     },
     "execution_count": 20,
     "metadata": {},
     "output_type": "execute_result"
    },
    {
     "data": {
      "image/png": "[encoded data removed]",
      "text/plain": [
       "<matplotlib.figure.Figure at 0x122c37e48>"
      ]
     },
     "metadata": {},
     "output_type": "display_data"
    }
   ],
   "source": [
    "X_test_0 = X_test[0,:].reshape(1,784)\n",
    "y_test_0 = y_test[0,:]\n",
    "plt.imshow(X_test_0.reshape([28, 28]))"
   ]
  },
  {
   "cell_type": "code",
   "execution_count": 22,
   "metadata": {
    "ExecuteTime": {
     "end_time": "2018-01-11T14:54:21.541425Z",
     "start_time": "2018-01-11T14:54:21.535492Z"
    }
   },
   "outputs": [
    {
     "name": "stdout",
     "output_type": "stream",
     "text": [
      "Label of testing sample: 7\n",
      "Output of the softmax layer [3.5827454e-25 4.6791169e-16 2.2247402e-16 2.1299120e-15 1.4592084e-25\n",
      " 1.1024463e-20 8.8209006e-30 1.0000000e+00 5.7869233e-21 3.4263459e-16]\n",
      "Network prediction: 7\n"
     ]
    }
   ],
   "source": [
    "pred = model.predict(X_test_0)\n",
    "print('Label of testing sample:', np.argmax(y_test_0))\n",
    "print('Output of the softmax layer', pred[0])\n",
    "print('Network prediction:', np.argmax(pred[0]))"
   ]
  },
  {
   "cell_type": "code",
   "execution_count": null,
   "metadata": {},
   "outputs": [],
   "source": []
  }
 ],
 "metadata": {
  "kernelspec": {
   "display_name": "Python 3",
   "language": "python",
   "name": "python3"
  },
  "language_info": {
   "codemirror_mode": {
    "name": "ipython",
    "version": 3
   },
   "file_extension": ".py",
   "mimetype": "text/x-python",
   "name": "python",
   "nbconvert_exporter": "python",
   "pygments_lexer": "ipython3",
   "version": "3.6.1"
  },
  "varInspector": {
   "cols": {
    "lenName": 16,
    "lenType": 16,
    "lenVar": 40
   },
   "kernels_config": {
    "python": {
     "delete_cmd_postfix": "",
     "delete_cmd_prefix": "del ",
     "library": "var_list.py",
     "varRefreshCmd": "print(var_dic_list())"
    },
    "r": {
     "delete_cmd_postfix": ") ",
     "delete_cmd_prefix": "rm(",
     "library": "var_list.r",
     "varRefreshCmd": "cat(var_dic_list()) "
    }
   },
   "types_to_exclude": [
    "module",
    "function",
    "builtin_function_or_method",
    "instance",
    "_Feature"
   ],
   "window_display": false
  }
 },
 "nbformat": 4,
 "nbformat_minor": 2
}
