{
 "cells": [
  {
   "cell_type": "code",
   "execution_count": 2,
   "metadata": {
    "ExecuteTime": {
     "end_time": "2018-06-05T20:13:51.856096Z",
     "start_time": "2018-06-05T20:13:51.853439Z"
    }
   },
   "outputs": [],
   "source": [
    "# let's create a simple blockchain"
   ]
  },
  {
   "cell_type": "code",
   "execution_count": 6,
   "metadata": {
    "ExecuteTime": {
     "end_time": "2018-06-05T20:20:46.441880Z",
     "start_time": "2018-06-05T20:20:46.437534Z"
    }
   },
   "outputs": [],
   "source": [
    "import time\n",
    "import os\n",
    "from cryptography.hazmat.backends import default_backend\n",
    "from cryptography.hazmat.primitives import hashes\n",
    "import base64"
   ]
  },
  {
   "cell_type": "code",
   "execution_count": 56,
   "metadata": {
    "ExecuteTime": {
     "end_time": "2018-06-06T13:26:59.856550Z",
     "start_time": "2018-06-06T13:26:59.829172Z"
    }
   },
   "outputs": [],
   "source": [
    "class block:\n",
    "    def __init__(self, prev_hash, data, nonce=None):\n",
    "        # content of the block (e.g., transactions list)\n",
    "        self.data = data\n",
    "        \n",
    "        # block header\n",
    "        self.prev_hash = prev_hash\n",
    "        self.timestamp = str(int(time.time()))\n",
    "        if nonce:\n",
    "            self.nonce = nonce\n",
    "        else:\n",
    "            self.nonce = base64.b16encode(os.urandom(16))\n",
    "        \n",
    "        # hash of the block header + data\n",
    "        digest = hashes.Hash(hashes.SHA256(), backend=default_backend())\n",
    "        digest.update(self.prev_hash)\n",
    "        digest.update(str.encode(self.timestamp))\n",
    "        digest.update(self.nonce)\n",
    "        digest.update(self.data)\n",
    "        self.hash = base64.b16encode(digest.finalize())\n",
    "    \n",
    "    def find_hash(self):\n",
    "        digest = hashes.Hash(hashes.SHA256(), backend=default_backend())\n",
    "        digest.update(self.prev_hash)\n",
    "        digest.update(str.encode(self.timestamp))\n",
    "        digest.update(self.nonce)\n",
    "        digest.update(self.data)\n",
    "        return base64.b16encode(digest.finalize())\n",
    "    \n",
    "    \n",
    "    def find_nonce(self, difficulty):\n",
    "        prefix = b'0' * difficulty\n",
    "        while True:\n",
    "            self.nonce = os.urandom(16)\n",
    "            msg_digest = self.find_hash()\n",
    "            if msg_digest.startswith(prefix):\n",
    "                self.hash = msg_digest\n",
    "                break\n",
    "        \n",
    "        \n",
    "    def __repr__(self):\n",
    "        return 'PreviousHash: {}\\nTimestamp: {}\\nNonce: {}\\nHash {}'.format(\n",
    "            self.prev_hash, self.timestamp, self.nonce, self.hash)\n",
    "        "
   ]
  },
  {
   "cell_type": "code",
   "execution_count": 11,
   "metadata": {
    "ExecuteTime": {
     "end_time": "2018-06-05T20:21:03.924552Z",
     "start_time": "2018-06-05T20:21:03.921549Z"
    }
   },
   "outputs": [],
   "source": [
    "test_block = block(b'1', b'dummy data')"
   ]
  },
  {
   "cell_type": "code",
   "execution_count": 12,
   "metadata": {
    "ExecuteTime": {
     "end_time": "2018-06-05T20:21:04.630341Z",
     "start_time": "2018-06-05T20:21:04.625240Z"
    }
   },
   "outputs": [
    {
     "data": {
      "text/plain": [
       "PreviousHash: b'1'\n",
       "Timestamp: 1528230063\n",
       "Nonce: b'2E90569155D20D64330267EDF5C3A24C'\n",
       "Hash b'278C3530267AFF39E3511816A13F5F1AFD134AE8B34039BB31AADCB919E928DE'"
      ]
     },
     "execution_count": 12,
     "metadata": {},
     "output_type": "execute_result"
    }
   ],
   "source": [
    "test_block"
   ]
  },
  {
   "cell_type": "code",
   "execution_count": 14,
   "metadata": {
    "ExecuteTime": {
     "end_time": "2018-06-05T20:47:49.352145Z",
     "start_time": "2018-06-05T20:47:49.349037Z"
    }
   },
   "outputs": [],
   "source": [
    "genesis_block = block(\n",
    "b'0000000000000000000000000000000000000000000000000000000000000000',\n",
    "b'PyCon 2018 Genesis Block',\n",
    "b'FFFFFFFFFFFFFFFFFFFFFFFFFFFFFFFFFFFFFFFFFFFFFFFFFFFFFFFFFFFFFFFF')"
   ]
  },
  {
   "cell_type": "code",
   "execution_count": 15,
   "metadata": {
    "ExecuteTime": {
     "end_time": "2018-06-05T20:47:57.464359Z",
     "start_time": "2018-06-05T20:47:57.460464Z"
    },
    "scrolled": true
   },
   "outputs": [
    {
     "data": {
      "text/plain": [
       "PreviousHash: b'0000000000000000000000000000000000000000000000000000000000000000'\n",
       "Timestamp: 1528231669\n",
       "Nonce: b'FFFFFFFFFFFFFFFFFFFFFFFFFFFFFFFFFFFFFFFFFFFFFFFFFFFFFFFFFFFFFFFF'\n",
       "Hash b'1AD9C383EA0A0B80DA7EA90072DCEE80025A68EFAE263E5F24EC0CAF65950295'"
      ]
     },
     "execution_count": 15,
     "metadata": {},
     "output_type": "execute_result"
    }
   ],
   "source": [
    "genesis_block"
   ]
  },
  {
   "cell_type": "code",
   "execution_count": 48,
   "metadata": {
    "ExecuteTime": {
     "end_time": "2018-06-06T13:23:13.245356Z",
     "start_time": "2018-06-06T13:23:13.219355Z"
    }
   },
   "outputs": [],
   "source": [
    "class blockchain:\n",
    "    def __init__(self):\n",
    "        self.blocks = []\n",
    "        \n",
    "    def add_block(self, block):\n",
    "        self.blocks.append(block)\n",
    "        \n",
    "    def blockchain_valid(self):\n",
    "        if self.blocks[0] != genesis_block:\n",
    "            return False\n",
    "        prev_block = self.blocks[0]\n",
    "        \n",
    "        for block in self.blocks[1:]:\n",
    "            # Check if the prv_hash of the block points to the prv block\n",
    "            if prev_block.hash != block.prev_hash:\n",
    "                return False\n",
    "            \n",
    "            # Check Hash(current+prv) = current hash\n",
    "            digest = hashes.Hash(hashes.SHA256(), backend=default_backend())\n",
    "            digest.update(block.prev_hash)\n",
    "            digest.update(str.encode(block.timestamp))\n",
    "            digest.update(block.nonce)\n",
    "            digest.update(block.data)\n",
    "            hash_digest = base64.b16encode(digest.finalize())\n",
    "            \n",
    "            if hash_digest != block.hash:\n",
    "                return False\n",
    "            \n",
    "            prev_block = block\n",
    "\n",
    "        return True\n",
    "    \n",
    "    def __repr__(self):\n",
    "        _blocks = []\n",
    "        for _block in self.blocks:\n",
    "            _blocks.append(str(_block))\n",
    "        return '\\n\\n'.join(_blocks)"
   ]
  },
  {
   "cell_type": "code",
   "execution_count": 32,
   "metadata": {
    "ExecuteTime": {
     "end_time": "2018-06-05T21:11:12.395961Z",
     "start_time": "2018-06-05T21:11:12.392870Z"
    }
   },
   "outputs": [],
   "source": [
    "test_blockchain = blockchain()"
   ]
  },
  {
   "cell_type": "code",
   "execution_count": 33,
   "metadata": {
    "ExecuteTime": {
     "end_time": "2018-06-05T21:11:12.743989Z",
     "start_time": "2018-06-05T21:11:12.740577Z"
    }
   },
   "outputs": [
    {
     "data": {
      "text/plain": []
     },
     "execution_count": 33,
     "metadata": {},
     "output_type": "execute_result"
    }
   ],
   "source": [
    "test_blockchain"
   ]
  },
  {
   "cell_type": "code",
   "execution_count": 34,
   "metadata": {
    "ExecuteTime": {
     "end_time": "2018-06-05T21:11:13.121839Z",
     "start_time": "2018-06-05T21:11:13.118858Z"
    }
   },
   "outputs": [],
   "source": [
    "test_blockchain.add_block(genesis_block)"
   ]
  },
  {
   "cell_type": "code",
   "execution_count": 35,
   "metadata": {
    "ExecuteTime": {
     "end_time": "2018-06-05T21:11:13.512057Z",
     "start_time": "2018-06-05T21:11:13.505568Z"
    }
   },
   "outputs": [
    {
     "data": {
      "text/plain": [
       "[PreviousHash: b'0000000000000000000000000000000000000000000000000000000000000000'\n",
       " Timestamp: 1528231669\n",
       " Nonce: b'FFFFFFFFFFFFFFFFFFFFFFFFFFFFFFFFFFFFFFFFFFFFFFFFFFFFFFFFFFFFFFFF'\n",
       " Hash b'1AD9C383EA0A0B80DA7EA90072DCEE80025A68EFAE263E5F24EC0CAF65950295']"
      ]
     },
     "execution_count": 35,
     "metadata": {},
     "output_type": "execute_result"
    }
   ],
   "source": [
    "test_blockchain.blocks"
   ]
  },
  {
   "cell_type": "code",
   "execution_count": 36,
   "metadata": {
    "ExecuteTime": {
     "end_time": "2018-06-05T21:11:14.130625Z",
     "start_time": "2018-06-05T21:11:14.126235Z"
    }
   },
   "outputs": [
    {
     "data": {
      "text/plain": [
       "PreviousHash: b'0000000000000000000000000000000000000000000000000000000000000000'\n",
       "Timestamp: 1528231669\n",
       "Nonce: b'FFFFFFFFFFFFFFFFFFFFFFFFFFFFFFFFFFFFFFFFFFFFFFFFFFFFFFFFFFFFFFFF'\n",
       "Hash b'1AD9C383EA0A0B80DA7EA90072DCEE80025A68EFAE263E5F24EC0CAF65950295'"
      ]
     },
     "execution_count": 36,
     "metadata": {},
     "output_type": "execute_result"
    }
   ],
   "source": [
    "test_blockchain"
   ]
  },
  {
   "cell_type": "code",
   "execution_count": 37,
   "metadata": {
    "ExecuteTime": {
     "end_time": "2018-06-05T21:11:14.800397Z",
     "start_time": "2018-06-05T21:11:14.796407Z"
    }
   },
   "outputs": [
    {
     "name": "stdout",
     "output_type": "stream",
     "text": [
      "True\n"
     ]
    }
   ],
   "source": [
    "print(test_blockchain.blockchain_valid())"
   ]
  },
  {
   "cell_type": "code",
   "execution_count": 38,
   "metadata": {
    "ExecuteTime": {
     "end_time": "2018-06-05T21:11:15.183487Z",
     "start_time": "2018-06-05T21:11:15.178658Z"
    }
   },
   "outputs": [
    {
     "name": "stdout",
     "output_type": "stream",
     "text": [
      "False\n"
     ]
    }
   ],
   "source": [
    "# bad genesis block\n",
    "test_blockchain = blockchain()\n",
    "test_blockchain.add_block(block(b'1', b'2'))\n",
    "print(test_blockchain.blockchain_valid())"
   ]
  },
  {
   "cell_type": "code",
   "execution_count": 39,
   "metadata": {
    "ExecuteTime": {
     "end_time": "2018-06-05T21:11:15.868506Z",
     "start_time": "2018-06-05T21:11:15.858377Z"
    }
   },
   "outputs": [
    {
     "name": "stdout",
     "output_type": "stream",
     "text": [
      "True\n",
      "PreviousHash: b'0000000000000000000000000000000000000000000000000000000000000000'\n",
      "Timestamp: 1528231669\n",
      "Nonce: b'FFFFFFFFFFFFFFFFFFFFFFFFFFFFFFFFFFFFFFFFFFFFFFFFFFFFFFFFFFFFFFFF'\n",
      "Hash b'1AD9C383EA0A0B80DA7EA90072DCEE80025A68EFAE263E5F24EC0CAF65950295'\n",
      "PreviousHash: b'1AD9C383EA0A0B80DA7EA90072DCEE80025A68EFAE263E5F24EC0CAF65950295'\n",
      "Timestamp: 1528233075\n",
      "Nonce: b'7C74029273AFDAFD5A0A5BA70B7CEE8B'\n",
      "Hash b'A188886C718B6AC41A58D1E87CDF13A0B165DE2070AC08596D73F320B3B2989F'\n"
     ]
    },
    {
     "data": {
      "text/plain": [
       "True"
      ]
     },
     "execution_count": 39,
     "metadata": {},
     "output_type": "execute_result"
    }
   ],
   "source": [
    "# corect blocks\n",
    "test_blockchain = blockchain()\n",
    "test_blockchain.add_block(genesis_block)\n",
    "print(test_blockchain.blockchain_valid())\n",
    "\n",
    "print(genesis_block)\n",
    "test_block = block(genesis_block.hash, b'dummy data')\n",
    "print(test_block)\n",
    "test_blockchain.add_block(test_block)\n",
    "test_blockchain.blockchain_valid()"
   ]
  },
  {
   "cell_type": "code",
   "execution_count": 41,
   "metadata": {
    "ExecuteTime": {
     "end_time": "2018-06-06T13:01:48.919002Z",
     "start_time": "2018-06-06T13:01:48.911817Z"
    }
   },
   "outputs": [
    {
     "name": "stdout",
     "output_type": "stream",
     "text": [
      "PreviousHash: b'A188886C718B6AC41A58D1E87CDF13A0B165DE2070AC08596D73F320B3B2989F'\n",
      "Timestamp: 1528290108\n",
      "Nonce: b'7B7F36E82051B90315BA9E2982C73D14'\n",
      "Hash b'C84889DEDDAC1B578EE4F4EF8B77C88402974784C0C4C3579D0206C35309F70D'\n"
     ]
    },
    {
     "data": {
      "text/plain": [
       "True"
      ]
     },
     "execution_count": 41,
     "metadata": {},
     "output_type": "execute_result"
    }
   ],
   "source": [
    "test_block2 = block(test_block.hash, b'dummy data2')\n",
    "print(test_block2)\n",
    "test_blockchain.add_block(test_block2)\n",
    "test_blockchain.blockchain_valid()"
   ]
  },
  {
   "cell_type": "code",
   "execution_count": 42,
   "metadata": {
    "ExecuteTime": {
     "end_time": "2018-06-06T13:02:06.836496Z",
     "start_time": "2018-06-06T13:02:06.832284Z"
    }
   },
   "outputs": [
    {
     "data": {
      "text/plain": [
       "PreviousHash: b'0000000000000000000000000000000000000000000000000000000000000000'\n",
       "Timestamp: 1528231669\n",
       "Nonce: b'FFFFFFFFFFFFFFFFFFFFFFFFFFFFFFFFFFFFFFFFFFFFFFFFFFFFFFFFFFFFFFFF'\n",
       "Hash b'1AD9C383EA0A0B80DA7EA90072DCEE80025A68EFAE263E5F24EC0CAF65950295'\n",
       "\n",
       "PreviousHash: b'1AD9C383EA0A0B80DA7EA90072DCEE80025A68EFAE263E5F24EC0CAF65950295'\n",
       "Timestamp: 1528233075\n",
       "Nonce: b'7C74029273AFDAFD5A0A5BA70B7CEE8B'\n",
       "Hash b'A188886C718B6AC41A58D1E87CDF13A0B165DE2070AC08596D73F320B3B2989F'\n",
       "\n",
       "PreviousHash: b'A188886C718B6AC41A58D1E87CDF13A0B165DE2070AC08596D73F320B3B2989F'\n",
       "Timestamp: 1528290108\n",
       "Nonce: b'7B7F36E82051B90315BA9E2982C73D14'\n",
       "Hash b'C84889DEDDAC1B578EE4F4EF8B77C88402974784C0C4C3579D0206C35309F70D'"
      ]
     },
     "execution_count": 42,
     "metadata": {},
     "output_type": "execute_result"
    }
   ],
   "source": [
    "test_blockchain"
   ]
  },
  {
   "cell_type": "code",
   "execution_count": null,
   "metadata": {},
   "outputs": [],
   "source": [
    "# proof of work"
   ]
  },
  {
   "cell_type": "code",
   "execution_count": 57,
   "metadata": {
    "ExecuteTime": {
     "end_time": "2018-06-06T13:27:38.052522Z",
     "start_time": "2018-06-06T13:27:38.048403Z"
    }
   },
   "outputs": [],
   "source": [
    "test_blockchain = blockchain()\n",
    "test_blockchain.add_block(genesis_block)"
   ]
  },
  {
   "cell_type": "code",
   "execution_count": 58,
   "metadata": {
    "ExecuteTime": {
     "end_time": "2018-06-06T13:27:38.563824Z",
     "start_time": "2018-06-06T13:27:38.559524Z"
    }
   },
   "outputs": [
    {
     "data": {
      "text/plain": [
       "PreviousHash: b'0000000000000000000000000000000000000000000000000000000000000000'\n",
       "Timestamp: 1528231669\n",
       "Nonce: b'FFFFFFFFFFFFFFFFFFFFFFFFFFFFFFFFFFFFFFFFFFFFFFFFFFFFFFFFFFFFFFFF'\n",
       "Hash b'1AD9C383EA0A0B80DA7EA90072DCEE80025A68EFAE263E5F24EC0CAF65950295'"
      ]
     },
     "execution_count": 58,
     "metadata": {},
     "output_type": "execute_result"
    }
   ],
   "source": [
    "test_blockchain"
   ]
  },
  {
   "cell_type": "code",
   "execution_count": 59,
   "metadata": {
    "ExecuteTime": {
     "end_time": "2018-06-06T13:27:39.101281Z",
     "start_time": "2018-06-06T13:27:39.095670Z"
    }
   },
   "outputs": [
    {
     "data": {
      "text/plain": [
       "PreviousHash: b'1AD9C383EA0A0B80DA7EA90072DCEE80025A68EFAE263E5F24EC0CAF65950295'\n",
       "Timestamp: 1528291659\n",
       "Nonce: b'3DC4E50F09CD889227CF35A646A27C6C'\n",
       "Hash b'A6B1DC797223A1946008A2FDAA7ADA6C709E0B952CF6C1CE329FC9F7A5703058'"
      ]
     },
     "execution_count": 59,
     "metadata": {},
     "output_type": "execute_result"
    }
   ],
   "source": [
    "test_block = block(genesis_block.hash, b'dd')\n",
    "test_block"
   ]
  },
  {
   "cell_type": "code",
   "execution_count": 60,
   "metadata": {
    "ExecuteTime": {
     "end_time": "2018-06-06T13:27:39.932926Z",
     "start_time": "2018-06-06T13:27:39.786065Z"
    }
   },
   "outputs": [
    {
     "data": {
      "text/plain": [
       "PreviousHash: b'1AD9C383EA0A0B80DA7EA90072DCEE80025A68EFAE263E5F24EC0CAF65950295'\n",
       "Timestamp: 1528291659\n",
       "Nonce: b'ch\\xc8j\\x1f2\\xfa\\x1c\\x8f\\xe3\\xbd/\\xd9\\xa3a\\xd1'\n",
       "Hash b'0000301A8ADFCF9C65F35823116B392736AB60CC84A882F6375CA89FFB287E88'"
      ]
     },
     "execution_count": 60,
     "metadata": {},
     "output_type": "execute_result"
    }
   ],
   "source": [
    "test_block.find_nonce(3)\n",
    "test_block"
   ]
  },
  {
   "cell_type": "code",
   "execution_count": 61,
   "metadata": {
    "ExecuteTime": {
     "end_time": "2018-06-06T13:32:02.406337Z",
     "start_time": "2018-06-06T13:32:02.402367Z"
    }
   },
   "outputs": [],
   "source": [
    "# tale of two blockchains"
   ]
  },
  {
   "cell_type": "code",
   "execution_count": 62,
   "metadata": {
    "ExecuteTime": {
     "end_time": "2018-06-06T13:33:35.777129Z",
     "start_time": "2018-06-06T13:33:35.769759Z"
    }
   },
   "outputs": [
    {
     "name": "stdout",
     "output_type": "stream",
     "text": [
      "PreviousHash: b'0000000000000000000000000000000000000000000000000000000000000000'\n",
      "Timestamp: 1528231669\n",
      "Nonce: b'FFFFFFFFFFFFFFFFFFFFFFFFFFFFFFFFFFFFFFFFFFFFFFFFFFFFFFFFFFFFFFFF'\n",
      "Hash b'1AD9C383EA0A0B80DA7EA90072DCEE80025A68EFAE263E5F24EC0CAF65950295'\n",
      "\n",
      "PreviousHash: b'0000000000000000000000000000000000000000000000000000000000000000'\n",
      "Timestamp: 1528231669\n",
      "Nonce: b'FFFFFFFFFFFFFFFFFFFFFFFFFFFFFFFFFFFFFFFFFFFFFFFFFFFFFFFFFFFFFFFF'\n",
      "Hash b'1AD9C383EA0A0B80DA7EA90072DCEE80025A68EFAE263E5F24EC0CAF65950295'\n"
     ]
    }
   ],
   "source": [
    "test_blockchain1 = blockchain()\n",
    "test_blockchain2 = blockchain()\n",
    "\n",
    "test_blockchain1.add_block(genesis_block)\n",
    "test_blockchain2.add_block(genesis_block)\n",
    "\n",
    "print(test_blockchain1)\n",
    "print()\n",
    "print(test_blockchain1)"
   ]
  },
  {
   "cell_type": "code",
   "execution_count": null,
   "metadata": {},
   "outputs": [],
   "source": [
    "def mine_blocks(test_blockchain):\n",
    "    s_time = int(time.time())\n",
    "    duration = 10 \n",
    "    \n",
    "    _prv_block = genesis_block\n",
    "    \n",
    "    while True:\n",
    "        _block = block(_prv)\n",
    "    "
   ]
  }
 ],
 "metadata": {
  "kernelspec": {
   "display_name": "Python 3",
   "language": "python",
   "name": "python3"
  },
  "language_info": {
   "codemirror_mode": {
    "name": "ipython",
    "version": 3
   },
   "file_extension": ".py",
   "mimetype": "text/x-python",
   "name": "python",
   "nbconvert_exporter": "python",
   "pygments_lexer": "ipython3",
   "version": "3.6.1"
  },
  "varInspector": {
   "cols": {
    "lenName": 16,
    "lenType": 16,
    "lenVar": 40
   },
   "kernels_config": {
    "python": {
     "delete_cmd_postfix": "",
     "delete_cmd_prefix": "del ",
     "library": "var_list.py",
     "varRefreshCmd": "print(var_dic_list())"
    },
    "r": {
     "delete_cmd_postfix": ") ",
     "delete_cmd_prefix": "rm(",
     "library": "var_list.r",
     "varRefreshCmd": "cat(var_dic_list()) "
    }
   },
   "types_to_exclude": [
    "module",
    "function",
    "builtin_function_or_method",
    "instance",
    "_Feature"
   ],
   "window_display": false
  }
 },
 "nbformat": 4,
 "nbformat_minor": 2
}
