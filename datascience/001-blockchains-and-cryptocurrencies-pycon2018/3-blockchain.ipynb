{
 "cells": [
  {
   "cell_type": "code",
   "execution_count": 1,
   "metadata": {
    "ExecuteTime": {
     "end_time": "2018-06-07T15:02:36.492622Z",
     "start_time": "2018-06-07T15:02:36.487718Z"
    }
   },
   "outputs": [],
   "source": [
    "# let's create a simple blockchain"
   ]
  },
  {
   "cell_type": "code",
   "execution_count": 2,
   "metadata": {
    "ExecuteTime": {
     "end_time": "2018-06-07T15:02:36.509417Z",
     "start_time": "2018-06-07T15:02:36.496241Z"
    }
   },
   "outputs": [],
   "source": [
    "import time\n",
    "import os\n",
    "from cryptography.hazmat.backends import default_backend\n",
    "from cryptography.hazmat.primitives import hashes\n",
    "import base64"
   ]
  },
  {
   "cell_type": "code",
   "execution_count": 3,
   "metadata": {
    "ExecuteTime": {
     "end_time": "2018-06-07T15:02:36.546941Z",
     "start_time": "2018-06-07T15:02:36.511688Z"
    }
   },
   "outputs": [],
   "source": [
    "class block:\n",
    "    def __init__(self, prev_hash, data, nonce=None):\n",
    "        # content of the block (e.g., transactions list)\n",
    "        self.data = data\n",
    "        \n",
    "        # block header\n",
    "        self.prev_hash = prev_hash\n",
    "        self.timestamp = str(int(time.time()))\n",
    "        if nonce:\n",
    "            self.nonce = nonce\n",
    "        else:\n",
    "            self.nonce = base64.b16encode(os.urandom(16))\n",
    "        \n",
    "        # hash of the block header + data\n",
    "        digest = hashes.Hash(hashes.SHA256(), backend=default_backend())\n",
    "        digest.update(self.prev_hash)\n",
    "        digest.update(str.encode(self.timestamp))\n",
    "        digest.update(self.nonce)\n",
    "        digest.update(self.data)\n",
    "        self.hash = base64.b16encode(digest.finalize())\n",
    "    \n",
    "    def find_hash(self):\n",
    "        digest = hashes.Hash(hashes.SHA256(), backend=default_backend())\n",
    "        digest.update(self.prev_hash)\n",
    "        digest.update(str.encode(self.timestamp))\n",
    "        digest.update(self.nonce)\n",
    "        digest.update(self.data)\n",
    "        return base64.b16encode(digest.finalize())\n",
    "    \n",
    "    \n",
    "    def find_nonce(self, difficulty):\n",
    "        prefix = b'0' * difficulty\n",
    "        while True:\n",
    "            self.nonce = os.urandom(16)\n",
    "            msg_digest = self.find_hash()\n",
    "            if msg_digest.startswith(prefix):\n",
    "                self.hash = msg_digest\n",
    "                break\n",
    "        \n",
    "        \n",
    "    def __repr__(self):\n",
    "        return 'PreviousHash: {}\\nTimestamp: {}\\nNonce: {}\\nHash {}'.format(\n",
    "            self.prev_hash, self.timestamp, self.nonce, self.hash)\n",
    "        "
   ]
  },
  {
   "cell_type": "code",
   "execution_count": 4,
   "metadata": {
    "ExecuteTime": {
     "end_time": "2018-06-07T15:02:36.654384Z",
     "start_time": "2018-06-07T15:02:36.549218Z"
    }
   },
   "outputs": [],
   "source": [
    "test_block = block(b'1', b'dummy data')"
   ]
  },
  {
   "cell_type": "code",
   "execution_count": 5,
   "metadata": {
    "ExecuteTime": {
     "end_time": "2018-06-07T15:02:36.671505Z",
     "start_time": "2018-06-07T15:02:36.656746Z"
    }
   },
   "outputs": [
    {
     "data": {
      "text/plain": [
       "PreviousHash: b'1'\n",
       "Timestamp: 1528383756\n",
       "Nonce: b'BA3943E03BB8A911642E2C959D843008'\n",
       "Hash b'E7817F842FD1CD8F777CDDA32C799E3B64759F36F1427DC8B3A6BD6E42153609'"
      ]
     },
     "execution_count": 5,
     "metadata": {},
     "output_type": "execute_result"
    }
   ],
   "source": [
    "test_block"
   ]
  },
  {
   "cell_type": "code",
   "execution_count": 6,
   "metadata": {
    "ExecuteTime": {
     "end_time": "2018-06-07T15:02:36.680454Z",
     "start_time": "2018-06-07T15:02:36.673706Z"
    }
   },
   "outputs": [],
   "source": [
    "genesis_block = block(\n",
    "b'0000000000000000000000000000000000000000000000000000000000000000',\n",
    "b'PyCon 2018 Genesis Block',\n",
    "b'FFFFFFFFFFFFFFFFFFFFFFFFFFFFFFFFFFFFFFFFFFFFFFFFFFFFFFFFFFFFFFFF')"
   ]
  },
  {
   "cell_type": "code",
   "execution_count": 7,
   "metadata": {
    "ExecuteTime": {
     "end_time": "2018-06-07T15:02:36.692090Z",
     "start_time": "2018-06-07T15:02:36.684010Z"
    },
    "scrolled": true
   },
   "outputs": [
    {
     "data": {
      "text/plain": [
       "PreviousHash: b'0000000000000000000000000000000000000000000000000000000000000000'\n",
       "Timestamp: 1528383756\n",
       "Nonce: b'FFFFFFFFFFFFFFFFFFFFFFFFFFFFFFFFFFFFFFFFFFFFFFFFFFFFFFFFFFFFFFFF'\n",
       "Hash b'5CAC26C6B1146437CCA06E6D4C3AEF0F0D9EFA3B8877F7AC3E00DFA4D15CA538'"
      ]
     },
     "execution_count": 7,
     "metadata": {},
     "output_type": "execute_result"
    }
   ],
   "source": [
    "genesis_block"
   ]
  },
  {
   "cell_type": "code",
   "execution_count": 8,
   "metadata": {
    "ExecuteTime": {
     "end_time": "2018-06-07T15:02:36.716270Z",
     "start_time": "2018-06-07T15:02:36.694379Z"
    }
   },
   "outputs": [],
   "source": [
    "class blockchain:\n",
    "    def __init__(self):\n",
    "        self.blocks = []\n",
    "        \n",
    "    def add_block(self, block):\n",
    "        self.blocks.append(block)\n",
    "        \n",
    "    def blockchain_valid(self):\n",
    "        if self.blocks[0] != genesis_block:\n",
    "            return False\n",
    "        prev_block = self.blocks[0]\n",
    "        \n",
    "        for block in self.blocks[1:]:\n",
    "            # Check if the prv_hash of the block points to the prv block\n",
    "            if prev_block.hash != block.prev_hash:\n",
    "                return False\n",
    "            \n",
    "            # Check Hash(current+prv) = current hash\n",
    "            digest = hashes.Hash(hashes.SHA256(), backend=default_backend())\n",
    "            digest.update(block.prev_hash)\n",
    "            digest.update(str.encode(block.timestamp))\n",
    "            digest.update(block.nonce)\n",
    "            digest.update(block.data)\n",
    "            hash_digest = base64.b16encode(digest.finalize())\n",
    "            \n",
    "            if hash_digest != block.hash:\n",
    "                return False\n",
    "            \n",
    "            prev_block = block\n",
    "\n",
    "        return True\n",
    "    \n",
    "    def __repr__(self):\n",
    "        _blocks = []\n",
    "        for _block in self.blocks:\n",
    "            _blocks.append(str(_block))\n",
    "        return '\\n\\n'.join(_blocks)"
   ]
  },
  {
   "cell_type": "code",
   "execution_count": 9,
   "metadata": {
    "ExecuteTime": {
     "end_time": "2018-06-07T15:02:36.721890Z",
     "start_time": "2018-06-07T15:02:36.718750Z"
    }
   },
   "outputs": [],
   "source": [
    "test_blockchain = blockchain()"
   ]
  },
  {
   "cell_type": "code",
   "execution_count": 10,
   "metadata": {
    "ExecuteTime": {
     "end_time": "2018-06-07T15:02:36.730319Z",
     "start_time": "2018-06-07T15:02:36.724011Z"
    }
   },
   "outputs": [
    {
     "data": {
      "text/plain": []
     },
     "execution_count": 10,
     "metadata": {},
     "output_type": "execute_result"
    }
   ],
   "source": [
    "test_blockchain"
   ]
  },
  {
   "cell_type": "code",
   "execution_count": 11,
   "metadata": {
    "ExecuteTime": {
     "end_time": "2018-06-07T15:02:36.750725Z",
     "start_time": "2018-06-07T15:02:36.745233Z"
    }
   },
   "outputs": [],
   "source": [
    "test_blockchain.add_block(genesis_block)"
   ]
  },
  {
   "cell_type": "code",
   "execution_count": 12,
   "metadata": {
    "ExecuteTime": {
     "end_time": "2018-06-07T15:02:36.775138Z",
     "start_time": "2018-06-07T15:02:36.754757Z"
    }
   },
   "outputs": [
    {
     "data": {
      "text/plain": [
       "[PreviousHash: b'0000000000000000000000000000000000000000000000000000000000000000'\n",
       " Timestamp: 1528383756\n",
       " Nonce: b'FFFFFFFFFFFFFFFFFFFFFFFFFFFFFFFFFFFFFFFFFFFFFFFFFFFFFFFFFFFFFFFF'\n",
       " Hash b'5CAC26C6B1146437CCA06E6D4C3AEF0F0D9EFA3B8877F7AC3E00DFA4D15CA538']"
      ]
     },
     "execution_count": 12,
     "metadata": {},
     "output_type": "execute_result"
    }
   ],
   "source": [
    "test_blockchain.blocks"
   ]
  },
  {
   "cell_type": "code",
   "execution_count": 13,
   "metadata": {
    "ExecuteTime": {
     "end_time": "2018-06-07T15:02:36.814906Z",
     "start_time": "2018-06-07T15:02:36.808462Z"
    }
   },
   "outputs": [
    {
     "data": {
      "text/plain": [
       "PreviousHash: b'0000000000000000000000000000000000000000000000000000000000000000'\n",
       "Timestamp: 1528383756\n",
       "Nonce: b'FFFFFFFFFFFFFFFFFFFFFFFFFFFFFFFFFFFFFFFFFFFFFFFFFFFFFFFFFFFFFFFF'\n",
       "Hash b'5CAC26C6B1146437CCA06E6D4C3AEF0F0D9EFA3B8877F7AC3E00DFA4D15CA538'"
      ]
     },
     "execution_count": 13,
     "metadata": {},
     "output_type": "execute_result"
    }
   ],
   "source": [
    "test_blockchain"
   ]
  },
  {
   "cell_type": "code",
   "execution_count": 14,
   "metadata": {
    "ExecuteTime": {
     "end_time": "2018-06-07T15:02:36.825747Z",
     "start_time": "2018-06-07T15:02:36.818455Z"
    }
   },
   "outputs": [
    {
     "name": "stdout",
     "output_type": "stream",
     "text": [
      "True\n"
     ]
    }
   ],
   "source": [
    "print(test_blockchain.blockchain_valid())"
   ]
  },
  {
   "cell_type": "code",
   "execution_count": 15,
   "metadata": {
    "ExecuteTime": {
     "end_time": "2018-06-07T15:02:36.833025Z",
     "start_time": "2018-06-07T15:02:36.827842Z"
    }
   },
   "outputs": [
    {
     "name": "stdout",
     "output_type": "stream",
     "text": [
      "False\n"
     ]
    }
   ],
   "source": [
    "# bad genesis block\n",
    "test_blockchain = blockchain()\n",
    "test_blockchain.add_block(block(b'1', b'2'))\n",
    "print(test_blockchain.blockchain_valid())"
   ]
  },
  {
   "cell_type": "code",
   "execution_count": 16,
   "metadata": {
    "ExecuteTime": {
     "end_time": "2018-06-07T15:02:36.855925Z",
     "start_time": "2018-06-07T15:02:36.844637Z"
    }
   },
   "outputs": [
    {
     "name": "stdout",
     "output_type": "stream",
     "text": [
      "True\n",
      "PreviousHash: b'0000000000000000000000000000000000000000000000000000000000000000'\n",
      "Timestamp: 1528383756\n",
      "Nonce: b'FFFFFFFFFFFFFFFFFFFFFFFFFFFFFFFFFFFFFFFFFFFFFFFFFFFFFFFFFFFFFFFF'\n",
      "Hash b'5CAC26C6B1146437CCA06E6D4C3AEF0F0D9EFA3B8877F7AC3E00DFA4D15CA538'\n",
      "PreviousHash: b'5CAC26C6B1146437CCA06E6D4C3AEF0F0D9EFA3B8877F7AC3E00DFA4D15CA538'\n",
      "Timestamp: 1528383756\n",
      "Nonce: b'CFE2682114589D99F0F89EC32DE8EDE8'\n",
      "Hash b'D4A07A28FBAF211C46440408E46252139A01BBF60557D1ABEE433180A58D2B0C'\n"
     ]
    },
    {
     "data": {
      "text/plain": [
       "True"
      ]
     },
     "execution_count": 16,
     "metadata": {},
     "output_type": "execute_result"
    }
   ],
   "source": [
    "# corect blocks\n",
    "test_blockchain = blockchain()\n",
    "test_blockchain.add_block(genesis_block)\n",
    "print(test_blockchain.blockchain_valid())\n",
    "\n",
    "print(genesis_block)\n",
    "test_block = block(genesis_block.hash, b'dummy data')\n",
    "print(test_block)\n",
    "test_blockchain.add_block(test_block)\n",
    "test_blockchain.blockchain_valid()"
   ]
  },
  {
   "cell_type": "code",
   "execution_count": 17,
   "metadata": {
    "ExecuteTime": {
     "end_time": "2018-06-07T15:02:36.869768Z",
     "start_time": "2018-06-07T15:02:36.857597Z"
    }
   },
   "outputs": [
    {
     "name": "stdout",
     "output_type": "stream",
     "text": [
      "PreviousHash: b'D4A07A28FBAF211C46440408E46252139A01BBF60557D1ABEE433180A58D2B0C'\n",
      "Timestamp: 1528383756\n",
      "Nonce: b'19EFF1DE5590BB20DCA572FD28760A30'\n",
      "Hash b'0546D307EEAC0061AA82C3A0742BC6145DA4DBB88EA09DB720462A50A75FFE66'\n"
     ]
    },
    {
     "data": {
      "text/plain": [
       "True"
      ]
     },
     "execution_count": 17,
     "metadata": {},
     "output_type": "execute_result"
    }
   ],
   "source": [
    "test_block2 = block(test_block.hash, b'dummy data2')\n",
    "print(test_block2)\n",
    "test_blockchain.add_block(test_block2)\n",
    "test_blockchain.blockchain_valid()"
   ]
  },
  {
   "cell_type": "code",
   "execution_count": 18,
   "metadata": {
    "ExecuteTime": {
     "end_time": "2018-06-07T15:02:36.878101Z",
     "start_time": "2018-06-07T15:02:36.871888Z"
    }
   },
   "outputs": [
    {
     "data": {
      "text/plain": [
       "PreviousHash: b'0000000000000000000000000000000000000000000000000000000000000000'\n",
       "Timestamp: 1528383756\n",
       "Nonce: b'FFFFFFFFFFFFFFFFFFFFFFFFFFFFFFFFFFFFFFFFFFFFFFFFFFFFFFFFFFFFFFFF'\n",
       "Hash b'5CAC26C6B1146437CCA06E6D4C3AEF0F0D9EFA3B8877F7AC3E00DFA4D15CA538'\n",
       "\n",
       "PreviousHash: b'5CAC26C6B1146437CCA06E6D4C3AEF0F0D9EFA3B8877F7AC3E00DFA4D15CA538'\n",
       "Timestamp: 1528383756\n",
       "Nonce: b'CFE2682114589D99F0F89EC32DE8EDE8'\n",
       "Hash b'D4A07A28FBAF211C46440408E46252139A01BBF60557D1ABEE433180A58D2B0C'\n",
       "\n",
       "PreviousHash: b'D4A07A28FBAF211C46440408E46252139A01BBF60557D1ABEE433180A58D2B0C'\n",
       "Timestamp: 1528383756\n",
       "Nonce: b'19EFF1DE5590BB20DCA572FD28760A30'\n",
       "Hash b'0546D307EEAC0061AA82C3A0742BC6145DA4DBB88EA09DB720462A50A75FFE66'"
      ]
     },
     "execution_count": 18,
     "metadata": {},
     "output_type": "execute_result"
    }
   ],
   "source": [
    "test_blockchain"
   ]
  },
  {
   "cell_type": "code",
   "execution_count": 19,
   "metadata": {
    "ExecuteTime": {
     "end_time": "2018-06-07T15:02:36.884513Z",
     "start_time": "2018-06-07T15:02:36.880319Z"
    }
   },
   "outputs": [],
   "source": [
    "# proof of work"
   ]
  },
  {
   "cell_type": "code",
   "execution_count": 20,
   "metadata": {
    "ExecuteTime": {
     "end_time": "2018-06-07T15:02:36.895150Z",
     "start_time": "2018-06-07T15:02:36.886847Z"
    }
   },
   "outputs": [],
   "source": [
    "test_blockchain = blockchain()\n",
    "test_blockchain.add_block(genesis_block)"
   ]
  },
  {
   "cell_type": "code",
   "execution_count": 21,
   "metadata": {
    "ExecuteTime": {
     "end_time": "2018-06-07T15:02:36.902131Z",
     "start_time": "2018-06-07T15:02:36.897305Z"
    }
   },
   "outputs": [
    {
     "data": {
      "text/plain": [
       "PreviousHash: b'0000000000000000000000000000000000000000000000000000000000000000'\n",
       "Timestamp: 1528383756\n",
       "Nonce: b'FFFFFFFFFFFFFFFFFFFFFFFFFFFFFFFFFFFFFFFFFFFFFFFFFFFFFFFFFFFFFFFF'\n",
       "Hash b'5CAC26C6B1146437CCA06E6D4C3AEF0F0D9EFA3B8877F7AC3E00DFA4D15CA538'"
      ]
     },
     "execution_count": 21,
     "metadata": {},
     "output_type": "execute_result"
    }
   ],
   "source": [
    "test_blockchain"
   ]
  },
  {
   "cell_type": "code",
   "execution_count": 22,
   "metadata": {
    "ExecuteTime": {
     "end_time": "2018-06-07T15:02:36.909793Z",
     "start_time": "2018-06-07T15:02:36.904301Z"
    }
   },
   "outputs": [
    {
     "data": {
      "text/plain": [
       "PreviousHash: b'5CAC26C6B1146437CCA06E6D4C3AEF0F0D9EFA3B8877F7AC3E00DFA4D15CA538'\n",
       "Timestamp: 1528383756\n",
       "Nonce: b'6B972DAFD2917C0473385909EAC1BADF'\n",
       "Hash b'D4D9F6F8B5482F3AEDAC3174B08BCF46799390C892FAA02AA81805FA8F3F302D'"
      ]
     },
     "execution_count": 22,
     "metadata": {},
     "output_type": "execute_result"
    }
   ],
   "source": [
    "test_block = block(genesis_block.hash, b'dd')\n",
    "test_block"
   ]
  },
  {
   "cell_type": "code",
   "execution_count": 23,
   "metadata": {
    "ExecuteTime": {
     "end_time": "2018-06-07T15:02:37.086597Z",
     "start_time": "2018-06-07T15:02:36.912046Z"
    }
   },
   "outputs": [
    {
     "data": {
      "text/plain": [
       "PreviousHash: b'5CAC26C6B1146437CCA06E6D4C3AEF0F0D9EFA3B8877F7AC3E00DFA4D15CA538'\n",
       "Timestamp: 1528383756\n",
       "Nonce: b'\\xb0\\xc4\\x84\\xbc\\x00\\xf6\\x1e\\xca=\\x8f\\x8cq\\x07I\\x1f\\x9c'\n",
       "Hash b'000BF26C2806AC5B79CD87C86C6515E75A72EE6DB38584F19CC0368B9CA4D40B'"
      ]
     },
     "execution_count": 23,
     "metadata": {},
     "output_type": "execute_result"
    }
   ],
   "source": [
    "test_block.find_nonce(3)\n",
    "test_block"
   ]
  },
  {
   "cell_type": "code",
   "execution_count": 24,
   "metadata": {
    "ExecuteTime": {
     "end_time": "2018-06-07T15:02:37.096787Z",
     "start_time": "2018-06-07T15:02:37.090568Z"
    }
   },
   "outputs": [],
   "source": [
    "# tale of two blockchains"
   ]
  },
  {
   "cell_type": "code",
   "execution_count": 25,
   "metadata": {
    "ExecuteTime": {
     "end_time": "2018-06-07T15:02:37.105567Z",
     "start_time": "2018-06-07T15:02:37.098789Z"
    }
   },
   "outputs": [
    {
     "name": "stdout",
     "output_type": "stream",
     "text": [
      "PreviousHash: b'0000000000000000000000000000000000000000000000000000000000000000'\n",
      "Timestamp: 1528383756\n",
      "Nonce: b'FFFFFFFFFFFFFFFFFFFFFFFFFFFFFFFFFFFFFFFFFFFFFFFFFFFFFFFFFFFFFFFF'\n",
      "Hash b'5CAC26C6B1146437CCA06E6D4C3AEF0F0D9EFA3B8877F7AC3E00DFA4D15CA538'\n",
      "\n",
      "PreviousHash: b'0000000000000000000000000000000000000000000000000000000000000000'\n",
      "Timestamp: 1528383756\n",
      "Nonce: b'FFFFFFFFFFFFFFFFFFFFFFFFFFFFFFFFFFFFFFFFFFFFFFFFFFFFFFFFFFFFFFFF'\n",
      "Hash b'5CAC26C6B1146437CCA06E6D4C3AEF0F0D9EFA3B8877F7AC3E00DFA4D15CA538'\n"
     ]
    }
   ],
   "source": [
    "test_blockchain1 = blockchain()\n",
    "test_blockchain2 = blockchain()\n",
    "\n",
    "test_blockchain1.add_block(genesis_block)\n",
    "test_blockchain2.add_block(genesis_block)\n",
    "\n",
    "print(test_blockchain1)\n",
    "print()\n",
    "print(test_blockchain1)"
   ]
  },
  {
   "cell_type": "code",
   "execution_count": 26,
   "metadata": {
    "ExecuteTime": {
     "end_time": "2018-06-07T15:02:37.116402Z",
     "start_time": "2018-06-07T15:02:37.107823Z"
    }
   },
   "outputs": [],
   "source": [
    "def mine_blocks(test_blockchain):\n",
    "    s_time = int(time.time())\n",
    "    duration = 5\n",
    "    \n",
    "    _prev_block = genesis_block\n",
    "    \n",
    "    while True:\n",
    "        _block = block(_prev_block.hash, os.urandom(4))\n",
    "        _block.find_nonce(3)\n",
    "        test_blockchain.add_block(_block)\n",
    "        print('.', end='')\n",
    "        if int(time.time()) > duration + s_time:\n",
    "            break\n",
    "    "
   ]
  },
  {
   "cell_type": "code",
   "execution_count": 27,
   "metadata": {
    "ExecuteTime": {
     "end_time": "2018-06-07T15:02:48.026316Z",
     "start_time": "2018-06-07T15:02:37.118368Z"
    }
   },
   "outputs": [
    {
     "name": "stdout",
     "output_type": "stream",
     "text": [
      ".........................................................................................."
     ]
    }
   ],
   "source": [
    "mine_blocks(test_blockchain1)"
   ]
  },
  {
   "cell_type": "code",
   "execution_count": 28,
   "metadata": {
    "ExecuteTime": {
     "end_time": "2018-06-07T15:02:59.065701Z",
     "start_time": "2018-06-07T15:02:48.028873Z"
    }
   },
   "outputs": [
    {
     "name": "stdout",
     "output_type": "stream",
     "text": [
      "............................................................................."
     ]
    }
   ],
   "source": [
    "mine_blocks(test_blockchain2)"
   ]
  },
  {
   "cell_type": "code",
   "execution_count": 29,
   "metadata": {
    "ExecuteTime": {
     "end_time": "2018-06-07T15:02:59.072845Z",
     "start_time": "2018-06-07T15:02:59.067962Z"
    }
   },
   "outputs": [
    {
     "data": {
      "text/plain": [
       "91"
      ]
     },
     "execution_count": 29,
     "metadata": {},
     "output_type": "execute_result"
    }
   ],
   "source": [
    "len(test_blockchain1.blocks)"
   ]
  },
  {
   "cell_type": "code",
   "execution_count": 30,
   "metadata": {
    "ExecuteTime": {
     "end_time": "2018-06-07T15:02:59.082786Z",
     "start_time": "2018-06-07T15:02:59.075625Z"
    }
   },
   "outputs": [
    {
     "data": {
      "text/plain": [
       "78"
      ]
     },
     "execution_count": 30,
     "metadata": {},
     "output_type": "execute_result"
    }
   ],
   "source": [
    "len(test_blockchain2.blocks)"
   ]
  },
  {
   "cell_type": "code",
   "execution_count": 31,
   "metadata": {
    "ExecuteTime": {
     "end_time": "2018-06-07T15:02:59.090141Z",
     "start_time": "2018-06-07T15:02:59.085237Z"
    }
   },
   "outputs": [],
   "source": [
    "# asymmetric encryption system and signatures"
   ]
  },
  {
   "cell_type": "code",
   "execution_count": 32,
   "metadata": {
    "ExecuteTime": {
     "end_time": "2018-06-07T15:02:59.096309Z",
     "start_time": "2018-06-07T15:02:59.092742Z"
    }
   },
   "outputs": [],
   "source": [
    "# tx data from, to, amount\n",
    "tx_data = '{0}======={1}======={2}'"
   ]
  },
  {
   "cell_type": "code",
   "execution_count": 33,
   "metadata": {
    "ExecuteTime": {
     "end_time": "2018-06-07T15:02:59.104295Z",
     "start_time": "2018-06-07T15:02:59.098337Z"
    }
   },
   "outputs": [],
   "source": [
    "from cryptography.hazmat.primitives.asymmetric import ec\n",
    "from cryptography.hazmat.primitives.serialization import PublicFormat, Encoding\n",
    "from cryptography.hazmat.primitives import serialization"
   ]
  },
  {
   "cell_type": "code",
   "execution_count": 34,
   "metadata": {
    "ExecuteTime": {
     "end_time": "2018-06-07T15:02:59.123964Z",
     "start_time": "2018-06-07T15:02:59.110747Z"
    }
   },
   "outputs": [],
   "source": [
    "def hash_pub_key(private_key):\n",
    "    digest = hashes.Hash(hashes.SHA256(), backend=default_backend())\n",
    "    digest.update(private_key.public_key().public_bytes(Encoding.DER, PublicFormat.SubjectPublicKeyInfo))\n",
    "    return base64.b16encode(digest.finalize())\n",
    "\n",
    "def sign_tx(tx, private_key):\n",
    "    return private_key.sign(tx, ec.ECDSA(hashes.SHA256()))\n",
    "\n",
    "def serialize_pubkey(publickey):\n",
    "    serialized_public = publickey.public_bytes(\n",
    "    encoding=Encoding.PEM,\n",
    "    format=PublicFormat.SubjectPublicKeyInfo)\n",
    "    \n",
    "    return serialized_public\n",
    "\n",
    "def parse_serialized_pubkey(serialized_pubkey):\n",
    "    loaded_public_key = serialization.load_pem_public_key(serialized_pubkey, backend=default_backend())\n",
    "    return loaded_public_key"
   ]
  },
  {
   "cell_type": "code",
   "execution_count": 35,
   "metadata": {
    "ExecuteTime": {
     "end_time": "2018-06-07T15:02:59.133896Z",
     "start_time": "2018-06-07T15:02:59.126166Z"
    }
   },
   "outputs": [],
   "source": [
    "private_keys = {}\n",
    "private_keys['Alice'] = ec.generate_private_key(ec.SECP256K1(), default_backend())\n",
    "private_keys['Bob'] = ec.generate_private_key(ec.SECP256K1(), default_backend())\n",
    "private_keys['Carol'] = ec.generate_private_key(ec.SECP256K1(), default_backend())"
   ]
  },
  {
   "cell_type": "code",
   "execution_count": 36,
   "metadata": {
    "ExecuteTime": {
     "end_time": "2018-06-07T15:02:59.142586Z",
     "start_time": "2018-06-07T15:02:59.135944Z"
    }
   },
   "outputs": [
    {
     "data": {
      "text/plain": [
       "{'Alice': <cryptography.hazmat.backends.openssl.ec._EllipticCurvePrivateKey at 0x10bbcb748>,\n",
       " 'Bob': <cryptography.hazmat.backends.openssl.ec._EllipticCurvePrivateKey at 0x10bbbba58>,\n",
       " 'Carol': <cryptography.hazmat.backends.openssl.ec._EllipticCurvePrivateKey at 0x10bbbbb70>}"
      ]
     },
     "execution_count": 36,
     "metadata": {},
     "output_type": "execute_result"
    }
   ],
   "source": [
    "private_keys"
   ]
  },
  {
   "cell_type": "code",
   "execution_count": 37,
   "metadata": {
    "ExecuteTime": {
     "end_time": "2018-06-07T15:02:59.153580Z",
     "start_time": "2018-06-07T15:02:59.145515Z"
    }
   },
   "outputs": [],
   "source": [
    "# Alice -> Bob, 10$\n",
    "tx_data_b = str.encode(tx_data.format(hash_pub_key(private_keys['Alice']), \n",
    "                                      hash_pub_key(private_keys['Bob']), \n",
    "                                      '10'))\n",
    "serialize_pubkey = serialize_pubkey(private_keys['Alice'].public_key())\n",
    "signature = sign_tx(tx_data_b, private_keys['Alice'])"
   ]
  },
  {
   "cell_type": "code",
   "execution_count": 38,
   "metadata": {
    "ExecuteTime": {
     "end_time": "2018-06-07T15:02:59.178109Z",
     "start_time": "2018-06-07T15:02:59.173306Z"
    }
   },
   "outputs": [],
   "source": [
    "tx_b = tx_data_b+b'======='+serialize_pubkey+b'======='+signature"
   ]
  },
  {
   "cell_type": "code",
   "execution_count": 39,
   "metadata": {
    "ExecuteTime": {
     "end_time": "2018-06-07T15:02:59.188942Z",
     "start_time": "2018-06-07T15:02:59.182903Z"
    }
   },
   "outputs": [
    {
     "data": {
      "text/plain": [
       "b\"b'A7EE2B91A4B77D084845EB17B014E00EAA2A488B65BAD21B6594E69A94BE8C38'=======b'32F3D166E6BBB2BA7E74DD5D6358A5FDDAF04A827582CFFD56B9E2E4F861C4E6'=======10=======-----BEGIN PUBLIC KEY-----\\nMFYwEAYHKoZIzj0CAQYFK4EEAAoDQgAEhnTYy8vqyEwrN7YsekHu5EfdwglF3PwN\\n+HL+LUCJ2jz9xxOXm6rcejbLD2vsm0ec0gStEp+VDA3lf+sMssOcvQ==\\n-----END PUBLIC KEY-----\\n=======0E\\x02!\\x00\\xb07-\\x8du6\\x15\\xd0\\xe9\\xd3\\x81\\x1b\\x1f\\xdba\\xea\\x17\\xf4\\xd7\\x0c\\xad&D}q\\xc0\\xe7\\xdb\\x7fk(\\xad\\x02 \\x1e\\xf8Z\\xb7e\\x87J3\\xca\\x11)\\x9e\\xf6\\xbeh-\\x14\\x04\\x98\\x97\\x8b\\xb4z2\\x12\\x9e\\xee\\xd1%\\xf1\\xba\\xd5\""
      ]
     },
     "execution_count": 39,
     "metadata": {},
     "output_type": "execute_result"
    }
   ],
   "source": [
    "tx_b"
   ]
  },
  {
   "cell_type": "code",
   "execution_count": 40,
   "metadata": {
    "ExecuteTime": {
     "end_time": "2018-06-07T15:02:59.297681Z",
     "start_time": "2018-06-07T15:02:59.191618Z"
    }
   },
   "outputs": [
    {
     "ename": "TypeError",
     "evalue": "'bytes' object is not callable",
     "output_type": "error",
     "traceback": [
      "\u001b[0;31m---------------------------------------------------------------------------\u001b[0m",
      "\u001b[0;31mTypeError\u001b[0m                                 Traceback (most recent call last)",
      "\u001b[0;32m<ipython-input-40-dc3c13ba9c77>\u001b[0m in \u001b[0;36m<module>\u001b[0;34m()\u001b[0m\n\u001b[1;32m      3\u001b[0m                           \u001b[0mhash_pub_key\u001b[0m\u001b[0;34m(\u001b[0m\u001b[0mprivate_keys\u001b[0m\u001b[0;34m[\u001b[0m\u001b[0;34m\"Carol\"\u001b[0m\u001b[0;34m]\u001b[0m\u001b[0;34m)\u001b[0m\u001b[0;34m,\u001b[0m\u001b[0;34m\u001b[0m\u001b[0m\n\u001b[1;32m      4\u001b[0m                           \"15\"))\n\u001b[0;32m----> 5\u001b[0;31m \u001b[0mserialized_pubkey\u001b[0m \u001b[0;34m=\u001b[0m \u001b[0mserialize_pubkey\u001b[0m\u001b[0;34m(\u001b[0m\u001b[0mprivate_keys\u001b[0m\u001b[0;34m[\u001b[0m\u001b[0;34m\"Bob\"\u001b[0m\u001b[0;34m]\u001b[0m\u001b[0;34m.\u001b[0m\u001b[0mpublic_key\u001b[0m\u001b[0;34m(\u001b[0m\u001b[0;34m)\u001b[0m\u001b[0;34m)\u001b[0m\u001b[0;34m\u001b[0m\u001b[0m\n\u001b[0m\u001b[1;32m      6\u001b[0m \u001b[0msiganture\u001b[0m \u001b[0;34m=\u001b[0m \u001b[0msign_tx\u001b[0m\u001b[0;34m(\u001b[0m\u001b[0mtx_data_b\u001b[0m\u001b[0;34m,\u001b[0m \u001b[0mprivate_keys\u001b[0m\u001b[0;34m[\u001b[0m\u001b[0;34m\"Bob\"\u001b[0m\u001b[0;34m]\u001b[0m\u001b[0;34m)\u001b[0m\u001b[0;34m\u001b[0m\u001b[0m\n",
      "\u001b[0;31mTypeError\u001b[0m: 'bytes' object is not callable"
     ]
    }
   ],
   "source": [
    "# Bob -> Carol, 15$\n",
    "tx_data_b = str.encode(tx_data.format(hash_pub_key(private_keys[\"Bob\"]),\n",
    "                          hash_pub_key(private_keys[\"Carol\"]),\n",
    "                          \"15\"))\n",
    "serialized_pubkey = serialize_pubkey(private_keys[\"Bob\"].public_key())\n",
    "siganture = sign_tx(tx_data_b, private_keys[\"Bob\"])"
   ]
  },
  {
   "cell_type": "code",
   "execution_count": null,
   "metadata": {
    "ExecuteTime": {
     "end_time": "2018-06-07T15:02:59.298338Z",
     "start_time": "2018-06-07T15:02:36.612Z"
    }
   },
   "outputs": [],
   "source": [
    "# transaction data\n",
    "tx_b2 = tx_data_b+b'======='+serialized_pubkey+b'======='+siganture"
   ]
  },
  {
   "cell_type": "code",
   "execution_count": null,
   "metadata": {
    "ExecuteTime": {
     "end_time": "2018-06-07T15:02:59.299144Z",
     "start_time": "2018-06-07T15:02:36.616Z"
    }
   },
   "outputs": [],
   "source": [
    "# # bob -> carol, 15$\n",
    "# tx_data_b = str.encode(tx_data.format(hash_pub_key(private_keys['Bob']), hash_pub_key(private_keys['Alice']), '15'))\n",
    "# serialize_pubkey = serialize_pubkey(private_keys['Bob'].public_key())"
   ]
  },
  {
   "cell_type": "code",
   "execution_count": null,
   "metadata": {
    "ExecuteTime": {
     "end_time": "2018-06-07T15:02:59.299807Z",
     "start_time": "2018-06-07T15:02:36.619Z"
    }
   },
   "outputs": [],
   "source": [
    "def verify_tx_signatures(tx):\n",
    "    pubkey = parse_serialized_pubkey(tx.split(b'=======')[3])\n",
    "    signature = tx.split(b'=======')[4]\n",
    "    data = b'======='.join(tx.split(b'=======')[:3])\n",
    "    pubkey.verify(signature, data, ec.ECDSA(hashes.SHA256()))\n",
    "    print('OK')"
   ]
  },
  {
   "cell_type": "code",
   "execution_count": null,
   "metadata": {
    "ExecuteTime": {
     "end_time": "2018-06-07T15:02:59.300644Z",
     "start_time": "2018-06-07T15:02:36.626Z"
    }
   },
   "outputs": [],
   "source": [
    "test_blockchain = blockchain()\n",
    "test_blockchain.add_block(genesis_block)"
   ]
  },
  {
   "cell_type": "code",
   "execution_count": null,
   "metadata": {
    "ExecuteTime": {
     "end_time": "2018-06-07T15:02:59.301676Z",
     "start_time": "2018-06-07T15:02:36.629Z"
    }
   },
   "outputs": [],
   "source": [
    "test_block = block(genesis_block.hash, tx_b)\n",
    "test_block.find_nonce(3)\n",
    "test_blockchain.add_block(test_block)\n",
    "\n",
    "test_block = block(test_block.hash, tx_b2)\n",
    "test_block.find_nonce(3)\n",
    "test_blockchain.add_block(test_block)\n",
    "\n",
    "tset_blockchain.blockchain_valid()"
   ]
  },
  {
   "cell_type": "code",
   "execution_count": null,
   "metadata": {},
   "outputs": [],
   "source": []
  }
 ],
 "metadata": {
  "kernelspec": {
   "display_name": "Python 3",
   "language": "python",
   "name": "python3"
  },
  "language_info": {
   "codemirror_mode": {
    "name": "ipython",
    "version": 3
   },
   "file_extension": ".py",
   "mimetype": "text/x-python",
   "name": "python",
   "nbconvert_exporter": "python",
   "pygments_lexer": "ipython3",
   "version": "3.6.1"
  },
  "varInspector": {
   "cols": {
    "lenName": 16,
    "lenType": 16,
    "lenVar": 40
   },
   "kernels_config": {
    "python": {
     "delete_cmd_postfix": "",
     "delete_cmd_prefix": "del ",
     "library": "var_list.py",
     "varRefreshCmd": "print(var_dic_list())"
    },
    "r": {
     "delete_cmd_postfix": ") ",
     "delete_cmd_prefix": "rm(",
     "library": "var_list.r",
     "varRefreshCmd": "cat(var_dic_list()) "
    }
   },
   "types_to_exclude": [
    "module",
    "function",
    "builtin_function_or_method",
    "instance",
    "_Feature"
   ],
   "window_display": false
  }
 },
 "nbformat": 4,
 "nbformat_minor": 2
}
