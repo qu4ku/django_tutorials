{
 "cells": [
  {
   "cell_type": "code",
   "execution_count": 2,
   "metadata": {
    "ExecuteTime": {
     "end_time": "2018-06-05T16:48:12.831439Z",
     "start_time": "2018-06-05T16:48:12.828763Z"
    }
   },
   "outputs": [],
   "source": [
    "from cryptography.hazmat.backends import default_backend\n",
    "from cryptography.hazmat.primitives import hashes\n",
    "import base64"
   ]
  },
  {
   "cell_type": "code",
   "execution_count": 5,
   "metadata": {
    "ExecuteTime": {
     "end_time": "2018-06-05T16:50:02.125780Z",
     "start_time": "2018-06-05T16:50:02.118363Z"
    }
   },
   "outputs": [
    {
     "name": "stdout",
     "output_type": "stream",
     "text": [
      "msg_digest: 32 256\n",
      "base64 encoding: b'eOwxFAM+7n6fm+09/eeV9Kam9qBwVB3pLKBeAZjdTuU='\n"
     ]
    }
   ],
   "source": [
    "digest = hashes.Hash(hashes.SHA256(), backend=default_backend())\n",
    "digest.update(b'PyCon')\n",
    "digest.update(b'2018')\n",
    "msg_digest = digest.finalize()\n",
    "print('msg_digest:', len(msg_digest), len(msg_digest) * 8)\n",
    "print('base64 encoding:', base64.b64encode(msg_digest))"
   ]
  },
  {
   "cell_type": "code",
   "execution_count": 7,
   "metadata": {
    "ExecuteTime": {
     "end_time": "2018-06-05T16:50:30.255494Z",
     "start_time": "2018-06-05T16:50:30.251510Z"
    }
   },
   "outputs": [
    {
     "name": "stdout",
     "output_type": "stream",
     "text": [
      "{'shake_128', 'dsaWithSHA', 'ecdsa-with-SHA1', 'ripemd160', 'sha3_384', 'sha3_256', 'md5', 'blake2b', 'sha224', 'sha3_224', 'sha256', 'shake_256', 'sha384', 'SHA', 'sha3_512', 'SHA256', 'RIPEMD160', 'dsaEncryption', 'SHA384', 'whirlpool', 'sha', 'MD4', 'sha1', 'DSA-SHA', 'md4', 'MDC2', 'blake2s', 'SHA512', 'MD5', 'SHA224', 'DSA', 'SHA1', 'mdc2', 'sha512'}\n"
     ]
    }
   ],
   "source": [
    "import hashlib\n",
    "\n",
    "print(hashlib.algorithms_available)"
   ]
  },
  {
   "cell_type": "code",
   "execution_count": 8,
   "metadata": {
    "ExecuteTime": {
     "end_time": "2018-06-05T16:51:50.689566Z",
     "start_time": "2018-06-05T16:51:50.673222Z"
    }
   },
   "outputs": [
    {
     "name": "stdout",
     "output_type": "stream",
     "text": [
      "msg_digest: 20 160\n",
      "base 64 encoding: b'+WKiFBqggNw19/F0gusyb/OPb5c='\n"
     ]
    }
   ],
   "source": [
    "ripemd160 = hashlib.new('ripemd160')\n",
    "ripemd160.update(b'Pycon 2018')\n",
    "msg_digest = ripemd160.digest()\n",
    "print('msg_digest:', len(msg_digest), len(msg_digest) * 8)\n",
    "print('base 64 encoding:', base64.b64encode(msg_digest))"
   ]
  },
  {
   "cell_type": "code",
   "execution_count": 9,
   "metadata": {
    "ExecuteTime": {
     "end_time": "2018-06-05T16:52:15.000568Z",
     "start_time": "2018-06-05T16:52:14.994505Z"
    }
   },
   "outputs": [
    {
     "name": "stdout",
     "output_type": "stream",
     "text": [
      "msg_digest: 20 160\n",
      "base 64 encoding: b'bupSraQhhgesiOWzg5a9D8dxHds='\n"
     ]
    }
   ],
   "source": [
    "ripemd160 = hashlib.new('ripemd160')\n",
    "ripemd160.update(b'Pycon2018')\n",
    "msg_digest = ripemd160.digest()\n",
    "print('msg_digest:', len(msg_digest), len(msg_digest) * 8)\n",
    "print('base 64 encoding:', base64.b64encode(msg_digest))"
   ]
  },
  {
   "cell_type": "code",
   "execution_count": 31,
   "metadata": {
    "ExecuteTime": {
     "end_time": "2018-06-05T19:38:23.355853Z",
     "start_time": "2018-06-05T19:38:22.301222Z"
    }
   },
   "outputs": [
    {
     "name": "stdout",
     "output_type": "stream",
     "text": [
      "47013 b'0000B37DE8A9D6942C53990E227259D71451B58A87403191FB49E47121BA4E3A'\n"
     ]
    }
   ],
   "source": [
    "# generate random number starting with two zeros\n",
    "import os \n",
    "# base64.b64encode(os.urandom(16))\n",
    "\n",
    "n_tries = 0\n",
    "\n",
    "while True:\n",
    "    digest = hashes.Hash(hashes.SHA256(), backend=default_backend())\n",
    "    value = os.urandom(16)\n",
    "    digest.update(value)\n",
    "    msg_digest = digest.finalize()\n",
    "    n_tries += 1\n",
    "    \n",
    "    if base64.b16encode(msg_digest).startswith(b'0000'):\n",
    "        print(n_tries, base64.b16encode(msg_digest))\n",
    "        break"
   ]
  },
  {
   "cell_type": "code",
   "execution_count": 36,
   "metadata": {
    "ExecuteTime": {
     "end_time": "2018-06-05T19:47:43.548606Z",
     "start_time": "2018-06-05T19:47:34.132059Z"
    }
   },
   "outputs": [
    {
     "name": "stdout",
     "output_type": "stream",
     "text": [
      "1  ----- \n",
      "3 b'0C2BD0F393900332C40521FD26CD4223118C3425827D50DA3CDC3FAB4AEAC9F9'\n",
      "53 b'0E4BA6F3EA4D02B3BDCA9B1B5B5A46517B3B56A7B2D2968F2D6637B13769DFDC'\n",
      "67 b'00E7D5D15ED4AFC17FBC7D5BE5FEF508030CCA7660B1403EB61D23DB04DA076F'\n",
      "69 b'0EBE6403308EF6A730A2FD5B027038443CA7BE4B9B0A3A1976C98D26FD47C101'\n",
      "84 b'0BA051286EE63577D2C8AEEE3294DB8B7A21089EAA0BC4381B8A574B15066E97'\n",
      "2  ----- \n",
      "336 b'0069B48EC9A6EE5358C757E6D00A41793BB96ADE24632C8B452F629599307E9F'\n",
      "538 b'007170F7C421064CFCCBFEA57680A962A7016243605E1DB12558F736651295CB'\n",
      "836 b'00BCA4ED1F04B94C53EF581134799B4D8BBFC1A0569BAAE2A69530DAACA7879D'\n",
      "1338 b'00F19554D28EF1EC9D36A275C4F92E2CD8C77F2AA461B4C6E913008C76A23372'\n",
      "1690 b'00B3E1E70857198139FD1CCAD2283745206B83B94FFF644A8BD6E603A8EB0561'\n",
      "3  ----- \n",
      "93 b'0006B819B2775751A19E3F428B47D709B6D5FE9CB114613A3008F9F343D1AF80'\n",
      "2238 b'000A0CD4E0BD4FF06353A65FCEA1CCFA204698195018A1FBB2A9BC83BD80976D'\n",
      "4604 b'0006BC4B1BCF164D3B69CF2732FDE332A2930724D6F76CD2CC5F42BC5F7F7BD4'\n",
      "8483 b'0007A36311BCB9531F0FDF4FB9B6158A42B59439E08D89FD5DDEB2B4D5D8DD99'\n",
      "9079 b'000457924721C062C846F2D40425ACC8309A91EEC84A2D22E150340D4E23A9C2'\n",
      "4  ----- \n",
      "159872 b'0000D4BE2A4C6A68DA318FEEDBC152948CA709D5E8992D2C617F5E4083AAB7A7'\n",
      "170556 b'0000CA9231E0D660DEBFA5167D19CF8392BFDEE4A12CCF1A697AF43CCDB72D1A'\n",
      "262197 b'0000A895318C87CD4647CC4B3B2F374276F11227526A8E78E64853531307B8DD'\n",
      "273091 b'00006874C80051261850A2D3242A142D454623AAD7D1716FE07E1E53D6C1768A'\n",
      "450515 b'0000C53CFCA548E3719566207E35D0EE56F6E8CA55D3A3B3DC42F7EC2D69EFCA'\n"
     ]
    }
   ],
   "source": [
    "n_tries = []\n",
    "\n",
    "for index in range(1, 5):\n",
    "    prefix = b'0' * index\n",
    "    _n_tries = 0\n",
    "    \n",
    "    print(index, ' ----- ')\n",
    "    \n",
    "    for i in range(5):\n",
    "        while True:\n",
    "            digest = hashes.Hash(hashes.SHA256(), backend=default_backend())\n",
    "            value = os.urandom(16)\n",
    "            digest.update(value)\n",
    "            msg_digest = digest.finalize()\n",
    "            _n_tries += 1 \n",
    "\n",
    "            if base64.b16encode(msg_digest).startswith(prefix):\n",
    "                print(_n_tries, base64.b16encode(msg_digest))\n",
    "                break\n",
    "    n_tries.append(_n_tries/5)\n",
    "\n",
    "\n"
   ]
  },
  {
   "cell_type": "code",
   "execution_count": 37,
   "metadata": {
    "ExecuteTime": {
     "end_time": "2018-06-05T19:49:12.715620Z",
     "start_time": "2018-06-05T19:49:12.065873Z"
    }
   },
   "outputs": [],
   "source": [
    "import matplotlib.pylab as plt"
   ]
  },
  {
   "cell_type": "code",
   "execution_count": 38,
   "metadata": {
    "ExecuteTime": {
     "end_time": "2018-06-05T19:49:38.848157Z",
     "start_time": "2018-06-05T19:49:38.674888Z"
    }
   },
   "outputs": [
    {
     "data": {
      "image/png": "[encoded data removed]",
      "text/plain": [
       "<matplotlib.figure.Figure at 0x103589cf8>"
      ]
     },
     "metadata": {},
     "output_type": "display_data"
    }
   ],
   "source": [
    "plt.plot([1, 2, 3, 4], n_tries)\n",
    "plt.show()"
   ]
  },
  {
   "cell_type": "code",
   "execution_count": 41,
   "metadata": {
    "ExecuteTime": {
     "end_time": "2018-06-05T19:57:38.633014Z",
     "start_time": "2018-06-05T19:57:38.623936Z"
    }
   },
   "outputs": [],
   "source": [
    "from cryptography.hazmat.primitives.asymmetric import ec\n",
    "private_key = ec.generate_private_key(ec.SECP256K1(), default_backend())\n",
    "data = b'data to be signed'\n",
    "signature = private_key.sign(data, ec.ECDSA(hashes.SHA256()))"
   ]
  },
  {
   "cell_type": "code",
   "execution_count": 42,
   "metadata": {
    "ExecuteTime": {
     "end_time": "2018-06-05T19:58:33.963891Z",
     "start_time": "2018-06-05T19:58:33.959826Z"
    }
   },
   "outputs": [],
   "source": [
    "public_key = private_key.public_key()\n",
    "public_key.verify(signature, data, ec.ECDSA(hashes.SHA256()))"
   ]
  },
  {
   "cell_type": "code",
   "execution_count": 44,
   "metadata": {
    "ExecuteTime": {
     "end_time": "2018-06-05T20:02:55.727067Z",
     "start_time": "2018-06-05T20:02:55.718679Z"
    }
   },
   "outputs": [
    {
     "ename": "InvalidSignature",
     "evalue": "",
     "output_type": "error",
     "traceback": [
      "\u001b[0;31m---------------------------------------------------------------------------\u001b[0m",
      "\u001b[0;31mInvalidSignature\u001b[0m                          Traceback (most recent call last)",
      "\u001b[0;32m<ipython-input-44-aded9a45d3a8>\u001b[0m in \u001b[0;36m<module>\u001b[0;34m()\u001b[0m\n\u001b[1;32m      1\u001b[0m \u001b[0;31m# wrong signature\u001b[0m\u001b[0;34m\u001b[0m\u001b[0;34m\u001b[0m\u001b[0m\n\u001b[0;32m----> 2\u001b[0;31m \u001b[0mpublic_key\u001b[0m\u001b[0;34m.\u001b[0m\u001b[0mverify\u001b[0m\u001b[0;34m(\u001b[0m\u001b[0;34mb'differentsign'\u001b[0m\u001b[0;34m,\u001b[0m \u001b[0mdata\u001b[0m\u001b[0;34m,\u001b[0m \u001b[0mec\u001b[0m\u001b[0;34m.\u001b[0m\u001b[0mECDSA\u001b[0m\u001b[0;34m(\u001b[0m\u001b[0mhashes\u001b[0m\u001b[0;34m.\u001b[0m\u001b[0mSHA256\u001b[0m\u001b[0;34m(\u001b[0m\u001b[0;34m)\u001b[0m\u001b[0;34m)\u001b[0m\u001b[0;34m)\u001b[0m\u001b[0;34m\u001b[0m\u001b[0m\n\u001b[0m",
      "\u001b[0;32m/Users/kamilwroniewicz/anaconda3/lib/python3.6/site-packages/cryptography/hazmat/backends/openssl/ec.py\u001b[0m in \u001b[0;36mverify\u001b[0;34m(self, signature, data, signature_algorithm)\u001b[0m\n\u001b[1;32m    296\u001b[0m             \u001b[0mself\u001b[0m\u001b[0;34m.\u001b[0m\u001b[0m_backend\u001b[0m\u001b[0;34m,\u001b[0m \u001b[0mdata\u001b[0m\u001b[0;34m,\u001b[0m \u001b[0msignature_algorithm\u001b[0m\u001b[0;34m.\u001b[0m\u001b[0m_algorithm\u001b[0m\u001b[0;34m\u001b[0m\u001b[0m\n\u001b[1;32m    297\u001b[0m         )\n\u001b[0;32m--> 298\u001b[0;31m         \u001b[0m_ecdsa_sig_verify\u001b[0m\u001b[0;34m(\u001b[0m\u001b[0mself\u001b[0m\u001b[0;34m.\u001b[0m\u001b[0m_backend\u001b[0m\u001b[0;34m,\u001b[0m \u001b[0mself\u001b[0m\u001b[0;34m,\u001b[0m \u001b[0msignature\u001b[0m\u001b[0;34m,\u001b[0m \u001b[0mdata\u001b[0m\u001b[0;34m)\u001b[0m\u001b[0;34m\u001b[0m\u001b[0m\n\u001b[0m",
      "\u001b[0;32m/Users/kamilwroniewicz/anaconda3/lib/python3.6/site-packages/cryptography/hazmat/backends/openssl/ec.py\u001b[0m in \u001b[0;36m_ecdsa_sig_verify\u001b[0;34m(backend, public_key, signature, data)\u001b[0m\n\u001b[1;32m     87\u001b[0m     \u001b[0;32mif\u001b[0m \u001b[0mres\u001b[0m \u001b[0;34m!=\u001b[0m \u001b[0;36m1\u001b[0m\u001b[0;34m:\u001b[0m\u001b[0;34m\u001b[0m\u001b[0m\n\u001b[1;32m     88\u001b[0m         \u001b[0mbackend\u001b[0m\u001b[0;34m.\u001b[0m\u001b[0m_consume_errors\u001b[0m\u001b[0;34m(\u001b[0m\u001b[0;34m)\u001b[0m\u001b[0;34m\u001b[0m\u001b[0m\n\u001b[0;32m---> 89\u001b[0;31m         \u001b[0;32mraise\u001b[0m \u001b[0mInvalidSignature\u001b[0m\u001b[0;34m\u001b[0m\u001b[0m\n\u001b[0m\u001b[1;32m     90\u001b[0m \u001b[0;34m\u001b[0m\u001b[0m\n\u001b[1;32m     91\u001b[0m \u001b[0;34m\u001b[0m\u001b[0m\n",
      "\u001b[0;31mInvalidSignature\u001b[0m: "
     ]
    }
   ],
   "source": [
    "# wrong signature\n",
    "public_key.verify(b'differentsign', data, ec.ECDSA(hashes.SHA256()))"
   ]
  },
  {
   "cell_type": "code",
   "execution_count": null,
   "metadata": {},
   "outputs": [],
   "source": []
  }
 ],
 "metadata": {
  "kernelspec": {
   "display_name": "Python 3",
   "language": "python",
   "name": "python3"
  },
  "language_info": {
   "codemirror_mode": {
    "name": "ipython",
    "version": 3
   },
   "file_extension": ".py",
   "mimetype": "text/x-python",
   "name": "python",
   "nbconvert_exporter": "python",
   "pygments_lexer": "ipython3",
   "version": "3.6.1"
  },
  "varInspector": {
   "cols": {
    "lenName": 16,
    "lenType": 16,
    "lenVar": 40
   },
   "kernels_config": {
    "python": {
     "delete_cmd_postfix": "",
     "delete_cmd_prefix": "del ",
     "library": "var_list.py",
     "varRefreshCmd": "print(var_dic_list())"
    },
    "r": {
     "delete_cmd_postfix": ") ",
     "delete_cmd_prefix": "rm(",
     "library": "var_list.r",
     "varRefreshCmd": "cat(var_dic_list()) "
    }
   },
   "types_to_exclude": [
    "module",
    "function",
    "builtin_function_or_method",
    "instance",
    "_Feature"
   ],
   "window_display": false
  }
 },
 "nbformat": 4,
 "nbformat_minor": 2
}
