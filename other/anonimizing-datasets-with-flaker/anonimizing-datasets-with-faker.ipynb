{
 "cells": [
  {
   "cell_type": "code",
   "execution_count": 25,
   "metadata": {
    "ExecuteTime": {
     "end_time": "2018-01-13T15:42:49.933139Z",
     "start_time": "2018-01-13T15:42:49.930114Z"
    }
   },
   "outputs": [],
   "source": [
    "from faker import Factory, Faker\n",
    "from collections import defaultdict\n",
    "import csv"
   ]
  },
  {
   "cell_type": "code",
   "execution_count": 27,
   "metadata": {
    "ExecuteTime": {
     "end_time": "2018-01-13T15:43:06.781062Z",
     "start_time": "2018-01-13T15:43:06.754396Z"
    }
   },
   "outputs": [
    {
     "data": {
      "text/plain": [
       "defaultdict(<bound method Provider.name of <faker.providers.person.pl_PL.Provider object at 0x10dc1a5f8>>,\n",
       "            {'kamil': 'Anita Kargol'})"
      ]
     },
     "execution_count": 27,
     "metadata": {},
     "output_type": "execute_result"
    }
   ],
   "source": [
    "# faker = Factory.create()\n",
    "faker = Faker('pl_PL')\n",
    "names = defaultdict(faker.name)\n",
    "names['kamil']\n",
    "names"
   ]
  },
  {
   "cell_type": "code",
   "execution_count": 30,
   "metadata": {
    "ExecuteTime": {
     "end_time": "2018-01-13T15:43:38.341376Z",
     "start_time": "2018-01-13T15:43:38.330077Z"
    }
   },
   "outputs": [],
   "source": [
    "def anonymize_rows(rows):\n",
    "    \"\"\"\n",
    "    Rows is an iterable of dictionaries that contain name adn email fields\n",
    "    that need to be anonymized.\n",
    "    \"\"\"\n",
    "    # Load the faker and its providers \n",
    "    # faker = Factory.create()\n",
    "    faker = Faker('pl_PL')\n",
    "    \n",
    "    # Create mappings of names & emails to faked names % emails\n",
    "    names = defaultdict(faker.name)\n",
    "    emails = defaultdict(faker.email)\n",
    "    \n",
    "    # Iterate over the rows and yield anonymized rows.\n",
    "    for row in rows:\n",
    "        # Replace the name and email fields with faked fields.\n",
    "        row['name'] = names[row['name']]\n",
    "        row['email'] = emails[row['email']]\n",
    "        \n",
    "        # Yield the row back to the caller\n",
    "        yield row\n",
    "\n",
    "def anonymize(source, target):\n",
    "    \"\"\"\n",
    "    The source argument is a path to a CSV file containing data to anonymize, \n",
    "    while target is a path to write CSV data to.\n",
    "    \"\"\"\n",
    "    with open(source, 'r') as f:\n",
    "        with open(target, 'w') as o:\n",
    "            # Use the DictReader to easily extract fields\n",
    "            reader = csv.DictReader(f)\n",
    "            writer = csv.DictWriter(o, reader.fieldnames)\n",
    "\n",
    "            # Read and anonymize data, writing to target file\n",
    "            for row in anonymize_rows(reader):\n",
    "                writer.writerow(row)\n"
   ]
  },
  {
   "cell_type": "code",
   "execution_count": 32,
   "metadata": {
    "ExecuteTime": {
     "end_time": "2018-01-13T15:45:36.947227Z",
     "start_time": "2018-01-13T15:45:36.944504Z"
    }
   },
   "outputs": [],
   "source": [
    "run = False\n",
    "if run:\n",
    "    anonymize('test_small.csv', 'result.csv')"
   ]
  },
  {
   "cell_type": "code",
   "execution_count": 34,
   "metadata": {
    "ExecuteTime": {
     "end_time": "2018-01-13T15:45:43.450235Z",
     "start_time": "2018-01-13T15:45:43.447573Z"
    }
   },
   "outputs": [],
   "source": [
    "from faker import Factory"
   ]
  },
  {
   "cell_type": "code",
   "execution_count": 35,
   "metadata": {
    "ExecuteTime": {
     "end_time": "2018-01-13T15:45:57.084422Z",
     "start_time": "2018-01-13T15:45:57.063711Z"
    }
   },
   "outputs": [],
   "source": [
    "fake = Factory.create('pl_PL')"
   ]
  },
  {
   "cell_type": "code",
   "execution_count": 37,
   "metadata": {
    "ExecuteTime": {
     "end_time": "2018-01-13T15:46:18.006581Z",
     "start_time": "2018-01-13T15:46:18.002427Z"
    }
   },
   "outputs": [
    {
     "data": {
      "text/plain": [
       "'Customizable composite throughput'"
      ]
     },
     "execution_count": 37,
     "metadata": {},
     "output_type": "execute_result"
    }
   ],
   "source": [
    "fake.catch_phrase()"
   ]
  },
  {
   "cell_type": "code",
   "execution_count": 38,
   "metadata": {
    "ExecuteTime": {
     "end_time": "2018-01-13T15:46:34.468025Z",
     "start_time": "2018-01-13T15:46:34.464123Z"
    }
   },
   "outputs": [
    {
     "data": {
      "text/plain": [
       "'Kiwior LLC'"
      ]
     },
     "execution_count": 38,
     "metadata": {},
     "output_type": "execute_result"
    }
   ],
   "source": [
    "fake.company()"
   ]
  },
  {
   "cell_type": "markdown",
   "metadata": {},
   "source": [
    "### Creating your own provider (category)"
   ]
  },
  {
   "cell_type": "code",
   "execution_count": 51,
   "metadata": {
    "ExecuteTime": {
     "end_time": "2018-01-13T15:53:33.560157Z",
     "start_time": "2018-01-13T15:53:33.555458Z"
    }
   },
   "outputs": [],
   "source": [
    "from faker.providers import BaseProvider\n",
    "import random\n",
    "\n",
    "class OceanProvider(BaseProvider):\n",
    "    \n",
    "    __provider__ = 'ocean'\n",
    "    __lang__ = 'en_US'\n",
    "    \n",
    "    oceans = [u'Atlantic', u'Pacific', u'Indian', u'Arctic', u'Southern',]\n",
    "    \n",
    "    @classmethod\n",
    "    def ocean(cls):\n",
    "        return random.choice(cls.oceans)"
   ]
  },
  {
   "cell_type": "code",
   "execution_count": 52,
   "metadata": {
    "ExecuteTime": {
     "end_time": "2018-01-13T15:53:33.867335Z",
     "start_time": "2018-01-13T15:53:33.845972Z"
    }
   },
   "outputs": [
    {
     "data": {
      "text/plain": [
       "'Arctic'"
      ]
     },
     "execution_count": 52,
     "metadata": {},
     "output_type": "execute_result"
    }
   ],
   "source": [
    "fake = Factory.create()\n",
    "fake.add_provider(OceanProvider)\n",
    "fake.ocean()"
   ]
  },
  {
   "cell_type": "code",
   "execution_count": 53,
   "metadata": {
    "ExecuteTime": {
     "end_time": "2018-01-13T15:56:38.288818Z",
     "start_time": "2018-01-13T15:56:38.284366Z"
    }
   },
   "outputs": [
    {
     "data": {
      "text/plain": [
       "{'address': '3938 William Mountains\\nDianatown, ID 89768',\n",
       " 'birthdate': '2004-05-28',\n",
       " 'mail': 'tyler88@hotmail.com',\n",
       " 'name': 'Jennifer Santos',\n",
       " 'sex': 'F',\n",
       " 'username': 'kelly92'}"
      ]
     },
     "execution_count": 53,
     "metadata": {},
     "output_type": "execute_result"
    }
   ],
   "source": [
    "fake.simple_profile()"
   ]
  },
  {
   "cell_type": "code",
   "execution_count": null,
   "metadata": {},
   "outputs": [],
   "source": []
  }
 ],
 "metadata": {
  "kernelspec": {
   "display_name": "Python 3",
   "language": "python",
   "name": "python3"
  },
  "language_info": {
   "codemirror_mode": {
    "name": "ipython",
    "version": 3
   },
   "file_extension": ".py",
   "mimetype": "text/x-python",
   "name": "python",
   "nbconvert_exporter": "python",
   "pygments_lexer": "ipython3",
   "version": "3.6.1"
  },
  "varInspector": {
   "cols": {
    "lenName": 16,
    "lenType": 16,
    "lenVar": 40
   },
   "kernels_config": {
    "python": {
     "delete_cmd_postfix": "",
     "delete_cmd_prefix": "del ",
     "library": "var_list.py",
     "varRefreshCmd": "print(var_dic_list())"
    },
    "r": {
     "delete_cmd_postfix": ") ",
     "delete_cmd_prefix": "rm(",
     "library": "var_list.r",
     "varRefreshCmd": "cat(var_dic_list()) "
    }
   },
   "types_to_exclude": [
    "module",
    "function",
    "builtin_function_or_method",
    "instance",
    "_Feature"
   ],
   "window_display": false
  }
 },
 "nbformat": 4,
 "nbformat_minor": 2
}
