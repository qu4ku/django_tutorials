{
 "cells": [
  {
   "cell_type": "code",
   "execution_count": 3,
   "metadata": {
    "ExecuteTime": {
     "end_time": "2018-01-13T14:19:18.709425Z",
     "start_time": "2018-01-13T14:19:18.704569Z"
    }
   },
   "outputs": [],
   "source": [
    "from faker import Factory\n",
    "from collections import defaultdict\n",
    "import csv"
   ]
  },
  {
   "cell_type": "code",
   "execution_count": 13,
   "metadata": {
    "ExecuteTime": {
     "end_time": "2018-01-13T14:35:05.655860Z",
     "start_time": "2018-01-13T14:35:05.636702Z"
    }
   },
   "outputs": [
    {
     "data": {
      "text/plain": [
       "defaultdict(<bound method Provider.name of <faker.providers.person.en_US.Provider object at 0x10dbe57b8>>,\n",
       "            {'kamil': 'Timothy Watson'})"
      ]
     },
     "execution_count": 13,
     "metadata": {},
     "output_type": "execute_result"
    }
   ],
   "source": [
    "faker = Factory.create()\n",
    "names = defaultdict(faker.name)\n",
    "names['kamil']\n",
    "names"
   ]
  },
  {
   "cell_type": "code",
   "execution_count": 4,
   "metadata": {
    "ExecuteTime": {
     "end_time": "2018-01-13T14:22:16.572108Z",
     "start_time": "2018-01-13T14:22:16.559947Z"
    }
   },
   "outputs": [],
   "source": [
    "def anonimize_rows(rows):\n",
    "    \"\"\"\n",
    "    Rows is an iterable of dictionaries that contain name adn email fields\n",
    "    that need to be anonymized.\n",
    "    \"\"\"\n",
    "    # Load the faker and its providers \n",
    "    faker = Factory.create()\n",
    "    \n",
    "    # Create mappings of names & emails to faked names % emails\n",
    "    names = defaultdict(faker.name)\n",
    "    emails = defaultdict(faker.email)\n",
    "    \n",
    "    # Iterate over the rows and yield anonymized rows.\n",
    "    for row in rows:\n",
    "        # Replace the name and email fields with faked fields.\n",
    "        row['name'] = names[row['name']]\n",
    "        row['email'] = emails[row['email']]\n",
    "        \n",
    "        # Yield the row back to the caller\n",
    "        yield row\n",
    "\n",
    "def anonymize(source, target):\n",
    "    \"\"\"\n",
    "    The source argument is a path to a CSV file containing data to anonymize, \n",
    "    while target is a path to write CSV data to.\n",
    "    \"\"\"\n",
    "    with open(source, 'r') as f:\n",
    "        with open(target, 'w') as o:\n",
    "            # Use the DictReader to easily extract fields\n",
    "            reader = csv.DictReader(f)\n",
    "            writer = csv.DictWriter(o, reader.fieldnames)\n",
    "\n",
    "            # Read and anonymize data, writing to target file\n",
    "            for row in anonymize_rows(reader):\n",
    "                writer.writerow(row)\n"
   ]
  },
  {
   "cell_type": "code",
   "execution_count": null,
   "metadata": {},
   "outputs": [],
   "source": []
  }
 ],
 "metadata": {
  "kernelspec": {
   "display_name": "Python 3",
   "language": "python",
   "name": "python3"
  },
  "language_info": {
   "codemirror_mode": {
    "name": "ipython",
    "version": 3
   },
   "file_extension": ".py",
   "mimetype": "text/x-python",
   "name": "python",
   "nbconvert_exporter": "python",
   "pygments_lexer": "ipython3",
   "version": "3.6.1"
  },
  "varInspector": {
   "cols": {
    "lenName": 16,
    "lenType": 16,
    "lenVar": 40
   },
   "kernels_config": {
    "python": {
     "delete_cmd_postfix": "",
     "delete_cmd_prefix": "del ",
     "library": "var_list.py",
     "varRefreshCmd": "print(var_dic_list())"
    },
    "r": {
     "delete_cmd_postfix": ") ",
     "delete_cmd_prefix": "rm(",
     "library": "var_list.r",
     "varRefreshCmd": "cat(var_dic_list()) "
    }
   },
   "types_to_exclude": [
    "module",
    "function",
    "builtin_function_or_method",
    "instance",
    "_Feature"
   ],
   "window_display": false
  }
 },
 "nbformat": 4,
 "nbformat_minor": 2
}
